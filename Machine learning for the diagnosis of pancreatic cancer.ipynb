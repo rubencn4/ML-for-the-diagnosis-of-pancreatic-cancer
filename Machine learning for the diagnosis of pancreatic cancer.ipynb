{
 "cells": [
  {
   "cell_type": "markdown",
   "metadata": {
    "id": "V3QhmDpPc2nK"
   },
   "source": [
    "# Machine learning for the diagnosis of pancreatic cancer\n",
    "#### Rubén Cuervo"
   ]
  },
  {
   "cell_type": "markdown",
   "metadata": {
    "id": "wjiKX2DsnDX_"
   },
   "source": [
    "## Importing libraries"
   ]
  },
  {
   "cell_type": "code",
   "execution_count": 1,
   "metadata": {
    "id": "i1AIok6OcxJ0"
   },
   "outputs": [],
   "source": [
    "import numpy as np\n",
    "import pandas as pd\n",
    "import matplotlib.pyplot as plt\n",
    "import seaborn as sns\n",
    "import operator\n",
    "import warnings\n",
    "warnings.filterwarnings(\"ignore\")"
   ]
  },
  {
   "cell_type": "markdown",
   "metadata": {
    "id": "56JvNvi7W_It"
   },
   "source": [
    "## All algorithms trial function"
   ]
  },
  {
   "cell_type": "code",
   "execution_count": 2,
   "metadata": {
    "id": "BEi3FrmhW83E"
   },
   "outputs": [],
   "source": [
    "from sklearn.model_selection import cross_val_score\n",
    "from sklearn.neighbors import KNeighborsClassifier\n",
    "from xgboost import XGBClassifier\n",
    "from sklearn.ensemble import RandomForestClassifier\n",
    "from sklearn.svm import SVC\n",
    "from sklearn.naive_bayes import GaussianNB\n",
    "from sklearn.linear_model import LogisticRegression\n",
    "\n",
    "from sklearn.model_selection import GridSearchCV\n",
    "\n",
    "def try_all(X_train,y_train):\n",
    "  knn=KNeighborsClassifier()\n",
    "  xgb=XGBClassifier(random_state=1)\n",
    "  rf=RandomForestClassifier(random_state=1)\n",
    "  svc=SVC()\n",
    "  nb=GaussianNB()\n",
    "  lr=LogisticRegression()\n",
    "  scores_knn = np.mean(cross_val_score(knn, X_train,y_train, cv=5))*100\n",
    "  scores_xgb = np.mean(cross_val_score(xgb, X_train,y_train, cv=5))*100\n",
    "  scores_rf = np.mean(cross_val_score(rf, X_train,y_train, cv=5))*100\n",
    "  scores_svc = np.mean(cross_val_score(svc, X_train,y_train, cv=5))*100\n",
    "  scores_nb = np.mean(cross_val_score(nb, X_train,y_train, cv=5))*100\n",
    "  scores_lr = np.mean(cross_val_score(lr, X_train,y_train, cv=5))*100\n",
    "  dic={\"KNN\":scores_knn,\"XGB\":scores_xgb,\"RF\":scores_rf,\"SVC\":scores_svc,\"NB\":scores_nb,\"LR\":scores_lr}\n",
    "  return sorted(dic.items(), key=operator.itemgetter(1),reverse=True)"
   ]
  },
  {
   "cell_type": "markdown",
   "metadata": {
    "id": "3nU2pBHunQRh"
   },
   "source": [
    "## Importing the dataset"
   ]
  },
  {
   "cell_type": "code",
   "execution_count": 3,
   "metadata": {
    "colab": {
     "base_uri": "https://localhost:8080/",
     "height": 424
    },
    "id": "8MtzQ69QYYlr",
    "outputId": "4ae06519-18a7-4680-e046-e6ddf73e720d"
   },
   "outputs": [
    {
     "data": {
      "text/html": [
       "<div>\n",
       "<style scoped>\n",
       "    .dataframe tbody tr th:only-of-type {\n",
       "        vertical-align: middle;\n",
       "    }\n",
       "\n",
       "    .dataframe tbody tr th {\n",
       "        vertical-align: top;\n",
       "    }\n",
       "\n",
       "    .dataframe thead th {\n",
       "        text-align: right;\n",
       "    }\n",
       "</style>\n",
       "<table border=\"1\" class=\"dataframe\">\n",
       "  <thead>\n",
       "    <tr style=\"text-align: right;\">\n",
       "      <th></th>\n",
       "      <th>sample_id</th>\n",
       "      <th>patient_cohort</th>\n",
       "      <th>sample_origin</th>\n",
       "      <th>age</th>\n",
       "      <th>sex</th>\n",
       "      <th>diagnosis</th>\n",
       "      <th>stage</th>\n",
       "      <th>benign_sample_diagnosis</th>\n",
       "      <th>plasma_CA19_9</th>\n",
       "      <th>creatinine</th>\n",
       "      <th>LYVE1</th>\n",
       "      <th>REG1B</th>\n",
       "      <th>TFF1</th>\n",
       "      <th>REG1A</th>\n",
       "    </tr>\n",
       "  </thead>\n",
       "  <tbody>\n",
       "    <tr>\n",
       "      <th>0</th>\n",
       "      <td>S1</td>\n",
       "      <td>Cohort1</td>\n",
       "      <td>BPTB</td>\n",
       "      <td>33</td>\n",
       "      <td>F</td>\n",
       "      <td>1</td>\n",
       "      <td>NaN</td>\n",
       "      <td>NaN</td>\n",
       "      <td>11.7</td>\n",
       "      <td>1.83222</td>\n",
       "      <td>0.893219</td>\n",
       "      <td>52.948840</td>\n",
       "      <td>654.282174</td>\n",
       "      <td>1262.000</td>\n",
       "    </tr>\n",
       "    <tr>\n",
       "      <th>1</th>\n",
       "      <td>S10</td>\n",
       "      <td>Cohort1</td>\n",
       "      <td>BPTB</td>\n",
       "      <td>81</td>\n",
       "      <td>F</td>\n",
       "      <td>1</td>\n",
       "      <td>NaN</td>\n",
       "      <td>NaN</td>\n",
       "      <td>NaN</td>\n",
       "      <td>0.97266</td>\n",
       "      <td>2.037585</td>\n",
       "      <td>94.467030</td>\n",
       "      <td>209.488250</td>\n",
       "      <td>228.407</td>\n",
       "    </tr>\n",
       "    <tr>\n",
       "      <th>2</th>\n",
       "      <td>S100</td>\n",
       "      <td>Cohort2</td>\n",
       "      <td>BPTB</td>\n",
       "      <td>51</td>\n",
       "      <td>M</td>\n",
       "      <td>1</td>\n",
       "      <td>NaN</td>\n",
       "      <td>NaN</td>\n",
       "      <td>7.0</td>\n",
       "      <td>0.78039</td>\n",
       "      <td>0.145589</td>\n",
       "      <td>102.366000</td>\n",
       "      <td>461.141000</td>\n",
       "      <td>NaN</td>\n",
       "    </tr>\n",
       "    <tr>\n",
       "      <th>3</th>\n",
       "      <td>S101</td>\n",
       "      <td>Cohort2</td>\n",
       "      <td>BPTB</td>\n",
       "      <td>61</td>\n",
       "      <td>M</td>\n",
       "      <td>1</td>\n",
       "      <td>NaN</td>\n",
       "      <td>NaN</td>\n",
       "      <td>8.0</td>\n",
       "      <td>0.70122</td>\n",
       "      <td>0.002805</td>\n",
       "      <td>60.579000</td>\n",
       "      <td>142.950000</td>\n",
       "      <td>NaN</td>\n",
       "    </tr>\n",
       "    <tr>\n",
       "      <th>4</th>\n",
       "      <td>S102</td>\n",
       "      <td>Cohort2</td>\n",
       "      <td>BPTB</td>\n",
       "      <td>62</td>\n",
       "      <td>M</td>\n",
       "      <td>1</td>\n",
       "      <td>NaN</td>\n",
       "      <td>NaN</td>\n",
       "      <td>9.0</td>\n",
       "      <td>0.21489</td>\n",
       "      <td>0.000860</td>\n",
       "      <td>65.540000</td>\n",
       "      <td>41.088000</td>\n",
       "      <td>NaN</td>\n",
       "    </tr>\n",
       "    <tr>\n",
       "      <th>...</th>\n",
       "      <td>...</td>\n",
       "      <td>...</td>\n",
       "      <td>...</td>\n",
       "      <td>...</td>\n",
       "      <td>...</td>\n",
       "      <td>...</td>\n",
       "      <td>...</td>\n",
       "      <td>...</td>\n",
       "      <td>...</td>\n",
       "      <td>...</td>\n",
       "      <td>...</td>\n",
       "      <td>...</td>\n",
       "      <td>...</td>\n",
       "      <td>...</td>\n",
       "    </tr>\n",
       "    <tr>\n",
       "      <th>585</th>\n",
       "      <td>S549</td>\n",
       "      <td>Cohort2</td>\n",
       "      <td>BPTB</td>\n",
       "      <td>68</td>\n",
       "      <td>M</td>\n",
       "      <td>3</td>\n",
       "      <td>IV</td>\n",
       "      <td>NaN</td>\n",
       "      <td>NaN</td>\n",
       "      <td>0.52026</td>\n",
       "      <td>7.058209</td>\n",
       "      <td>156.241000</td>\n",
       "      <td>525.178000</td>\n",
       "      <td>NaN</td>\n",
       "    </tr>\n",
       "    <tr>\n",
       "      <th>586</th>\n",
       "      <td>S558</td>\n",
       "      <td>Cohort2</td>\n",
       "      <td>BPTB</td>\n",
       "      <td>71</td>\n",
       "      <td>F</td>\n",
       "      <td>3</td>\n",
       "      <td>IV</td>\n",
       "      <td>NaN</td>\n",
       "      <td>NaN</td>\n",
       "      <td>0.85956</td>\n",
       "      <td>8.341207</td>\n",
       "      <td>16.915000</td>\n",
       "      <td>245.947000</td>\n",
       "      <td>NaN</td>\n",
       "    </tr>\n",
       "    <tr>\n",
       "      <th>587</th>\n",
       "      <td>S560</td>\n",
       "      <td>Cohort2</td>\n",
       "      <td>BPTB</td>\n",
       "      <td>63</td>\n",
       "      <td>M</td>\n",
       "      <td>3</td>\n",
       "      <td>IV</td>\n",
       "      <td>NaN</td>\n",
       "      <td>NaN</td>\n",
       "      <td>1.36851</td>\n",
       "      <td>7.674707</td>\n",
       "      <td>289.701000</td>\n",
       "      <td>537.286000</td>\n",
       "      <td>NaN</td>\n",
       "    </tr>\n",
       "    <tr>\n",
       "      <th>588</th>\n",
       "      <td>S583</td>\n",
       "      <td>Cohort2</td>\n",
       "      <td>BPTB</td>\n",
       "      <td>75</td>\n",
       "      <td>F</td>\n",
       "      <td>3</td>\n",
       "      <td>IV</td>\n",
       "      <td>NaN</td>\n",
       "      <td>NaN</td>\n",
       "      <td>1.33458</td>\n",
       "      <td>8.206777</td>\n",
       "      <td>205.930000</td>\n",
       "      <td>722.523000</td>\n",
       "      <td>NaN</td>\n",
       "    </tr>\n",
       "    <tr>\n",
       "      <th>589</th>\n",
       "      <td>S590</td>\n",
       "      <td>Cohort1</td>\n",
       "      <td>BPTB</td>\n",
       "      <td>74</td>\n",
       "      <td>M</td>\n",
       "      <td>3</td>\n",
       "      <td>IV</td>\n",
       "      <td>NaN</td>\n",
       "      <td>1488.0</td>\n",
       "      <td>1.50423</td>\n",
       "      <td>8.200958</td>\n",
       "      <td>411.938275</td>\n",
       "      <td>2021.321078</td>\n",
       "      <td>13200.000</td>\n",
       "    </tr>\n",
       "  </tbody>\n",
       "</table>\n",
       "<p>590 rows × 14 columns</p>\n",
       "</div>"
      ],
      "text/plain": [
       "    sample_id patient_cohort sample_origin  age sex  diagnosis stage  \\\n",
       "0          S1        Cohort1          BPTB   33   F          1   NaN   \n",
       "1         S10        Cohort1          BPTB   81   F          1   NaN   \n",
       "2        S100        Cohort2          BPTB   51   M          1   NaN   \n",
       "3        S101        Cohort2          BPTB   61   M          1   NaN   \n",
       "4        S102        Cohort2          BPTB   62   M          1   NaN   \n",
       "..        ...            ...           ...  ...  ..        ...   ...   \n",
       "585      S549        Cohort2          BPTB   68   M          3    IV   \n",
       "586      S558        Cohort2          BPTB   71   F          3    IV   \n",
       "587      S560        Cohort2          BPTB   63   M          3    IV   \n",
       "588      S583        Cohort2          BPTB   75   F          3    IV   \n",
       "589      S590        Cohort1          BPTB   74   M          3    IV   \n",
       "\n",
       "    benign_sample_diagnosis  plasma_CA19_9  creatinine     LYVE1       REG1B  \\\n",
       "0                       NaN           11.7     1.83222  0.893219   52.948840   \n",
       "1                       NaN            NaN     0.97266  2.037585   94.467030   \n",
       "2                       NaN            7.0     0.78039  0.145589  102.366000   \n",
       "3                       NaN            8.0     0.70122  0.002805   60.579000   \n",
       "4                       NaN            9.0     0.21489  0.000860   65.540000   \n",
       "..                      ...            ...         ...       ...         ...   \n",
       "585                     NaN            NaN     0.52026  7.058209  156.241000   \n",
       "586                     NaN            NaN     0.85956  8.341207   16.915000   \n",
       "587                     NaN            NaN     1.36851  7.674707  289.701000   \n",
       "588                     NaN            NaN     1.33458  8.206777  205.930000   \n",
       "589                     NaN         1488.0     1.50423  8.200958  411.938275   \n",
       "\n",
       "            TFF1      REG1A  \n",
       "0     654.282174   1262.000  \n",
       "1     209.488250    228.407  \n",
       "2     461.141000        NaN  \n",
       "3     142.950000        NaN  \n",
       "4      41.088000        NaN  \n",
       "..           ...        ...  \n",
       "585   525.178000        NaN  \n",
       "586   245.947000        NaN  \n",
       "587   537.286000        NaN  \n",
       "588   722.523000        NaN  \n",
       "589  2021.321078  13200.000  \n",
       "\n",
       "[590 rows x 14 columns]"
      ]
     },
     "execution_count": 3,
     "metadata": {},
     "output_type": "execute_result"
    }
   ],
   "source": [
    "data = pd.read_csv('Data/Debernardi et al 2020 data.csv')\n",
    "information=pd.read_csv('Data/Debernardi et al 2020 documentation.csv')\n",
    "data"
   ]
  },
  {
   "cell_type": "code",
   "execution_count": 4,
   "metadata": {
    "colab": {
     "base_uri": "https://localhost:8080/",
     "height": 488
    },
    "id": "v-plK51JYj8w",
    "outputId": "e487c406-59b9-43a2-96f0-e43ec089ae02"
   },
   "outputs": [
    {
     "data": {
      "text/html": [
       "<div>\n",
       "<style scoped>\n",
       "    .dataframe tbody tr th:only-of-type {\n",
       "        vertical-align: middle;\n",
       "    }\n",
       "\n",
       "    .dataframe tbody tr th {\n",
       "        vertical-align: top;\n",
       "    }\n",
       "\n",
       "    .dataframe thead th {\n",
       "        text-align: right;\n",
       "    }\n",
       "</style>\n",
       "<table border=\"1\" class=\"dataframe\">\n",
       "  <thead>\n",
       "    <tr style=\"text-align: right;\">\n",
       "      <th></th>\n",
       "      <th>Column name</th>\n",
       "      <th>Original column name</th>\n",
       "      <th>Details</th>\n",
       "    </tr>\n",
       "  </thead>\n",
       "  <tbody>\n",
       "    <tr>\n",
       "      <th>0</th>\n",
       "      <td>sample_id</td>\n",
       "      <td>Sample ID</td>\n",
       "      <td>Unique string identifying each subject</td>\n",
       "    </tr>\n",
       "    <tr>\n",
       "      <th>1</th>\n",
       "      <td>patient_cohort</td>\n",
       "      <td>Patient's Cohort</td>\n",
       "      <td>Cohort 1,  previously used samples; Cohort 2, ...</td>\n",
       "    </tr>\n",
       "    <tr>\n",
       "      <th>2</th>\n",
       "      <td>sample_origin</td>\n",
       "      <td>Sample Origin</td>\n",
       "      <td>BPTB: Barts Pancreas Tissue Bank, London, UK; ...</td>\n",
       "    </tr>\n",
       "    <tr>\n",
       "      <th>3</th>\n",
       "      <td>age</td>\n",
       "      <td>Age</td>\n",
       "      <td>Age in years</td>\n",
       "    </tr>\n",
       "    <tr>\n",
       "      <th>4</th>\n",
       "      <td>sex</td>\n",
       "      <td>Sex</td>\n",
       "      <td>M = male, F = female</td>\n",
       "    </tr>\n",
       "    <tr>\n",
       "      <th>5</th>\n",
       "      <td>diagnosis</td>\n",
       "      <td>Diagnosis (1=Control, 2=Benign, 3=PDAC)</td>\n",
       "      <td>1 = control (no pancreatic disease), 2 = benig...</td>\n",
       "    </tr>\n",
       "    <tr>\n",
       "      <th>6</th>\n",
       "      <td>stage</td>\n",
       "      <td>Stage</td>\n",
       "      <td>For those with pancratic cancer, what stage wa...</td>\n",
       "    </tr>\n",
       "    <tr>\n",
       "      <th>7</th>\n",
       "      <td>benign_sample_diagnosis</td>\n",
       "      <td>Benign Samples Diagnosis</td>\n",
       "      <td>For those with a benign, non-cancerous diagnos...</td>\n",
       "    </tr>\n",
       "    <tr>\n",
       "      <th>8</th>\n",
       "      <td>plasma_CA19_9</td>\n",
       "      <td>Plasma CA19-9 U/ml</td>\n",
       "      <td>Blood plasma levels of CA 19–9 monoclonal anti...</td>\n",
       "    </tr>\n",
       "    <tr>\n",
       "      <th>9</th>\n",
       "      <td>creatinine</td>\n",
       "      <td>Creatinine mg/ml</td>\n",
       "      <td>Urinary biomarker of kidney function</td>\n",
       "    </tr>\n",
       "    <tr>\n",
       "      <th>10</th>\n",
       "      <td>LYVE1</td>\n",
       "      <td>LYVE1 ng/ml</td>\n",
       "      <td>Urinary levels of Lymphatic vessel endothelial...</td>\n",
       "    </tr>\n",
       "    <tr>\n",
       "      <th>11</th>\n",
       "      <td>REG1B</td>\n",
       "      <td>REG1B ng/ml</td>\n",
       "      <td>Urinary levels of a protein that may be associ...</td>\n",
       "    </tr>\n",
       "    <tr>\n",
       "      <th>12</th>\n",
       "      <td>TFF1</td>\n",
       "      <td>TFF1 ng/ml</td>\n",
       "      <td>Urinary levels of Trefoil Factor 1, which may ...</td>\n",
       "    </tr>\n",
       "    <tr>\n",
       "      <th>13</th>\n",
       "      <td>REG1A</td>\n",
       "      <td>REG1A ng/ml</td>\n",
       "      <td>Urinary levels of a protein that may be associ...</td>\n",
       "    </tr>\n",
       "  </tbody>\n",
       "</table>\n",
       "</div>"
      ],
      "text/plain": [
       "                Column name                     Original column name  \\\n",
       "0                 sample_id                                Sample ID   \n",
       "1            patient_cohort                         Patient's Cohort   \n",
       "2             sample_origin                            Sample Origin   \n",
       "3                       age                                      Age   \n",
       "4                       sex                                      Sex   \n",
       "5                 diagnosis  Diagnosis (1=Control, 2=Benign, 3=PDAC)   \n",
       "6                     stage                                    Stage   \n",
       "7   benign_sample_diagnosis                 Benign Samples Diagnosis   \n",
       "8             plasma_CA19_9                       Plasma CA19-9 U/ml   \n",
       "9                creatinine                         Creatinine mg/ml   \n",
       "10                    LYVE1                              LYVE1 ng/ml   \n",
       "11                    REG1B                              REG1B ng/ml   \n",
       "12                     TFF1                               TFF1 ng/ml   \n",
       "13                    REG1A                              REG1A ng/ml   \n",
       "\n",
       "                                              Details  \n",
       "0              Unique string identifying each subject  \n",
       "1   Cohort 1,  previously used samples; Cohort 2, ...  \n",
       "2   BPTB: Barts Pancreas Tissue Bank, London, UK; ...  \n",
       "3                                        Age in years  \n",
       "4                                M = male, F = female  \n",
       "5   1 = control (no pancreatic disease), 2 = benig...  \n",
       "6   For those with pancratic cancer, what stage wa...  \n",
       "7   For those with a benign, non-cancerous diagnos...  \n",
       "8   Blood plasma levels of CA 19–9 monoclonal anti...  \n",
       "9                Urinary biomarker of kidney function  \n",
       "10  Urinary levels of Lymphatic vessel endothelial...  \n",
       "11  Urinary levels of a protein that may be associ...  \n",
       "12  Urinary levels of Trefoil Factor 1, which may ...  \n",
       "13  Urinary levels of a protein that may be associ...  "
      ]
     },
     "execution_count": 4,
     "metadata": {},
     "output_type": "execute_result"
    }
   ],
   "source": [
    "information"
   ]
  },
  {
   "cell_type": "markdown",
   "metadata": {
    "id": "U9DltEiRY6ut"
   },
   "source": [
    "## Data exploration"
   ]
  },
  {
   "cell_type": "code",
   "execution_count": 5,
   "metadata": {
    "colab": {
     "base_uri": "https://localhost:8080/"
    },
    "id": "nHKfOZfGY6Fi",
    "outputId": "e740373e-8dd5-484f-b97e-c6861bb40200"
   },
   "outputs": [
    {
     "data": {
      "text/plain": [
       "<bound method NDFrame.describe of     sample_id patient_cohort sample_origin  age sex  diagnosis stage  \\\n",
       "0          S1        Cohort1          BPTB   33   F          1   NaN   \n",
       "1         S10        Cohort1          BPTB   81   F          1   NaN   \n",
       "2        S100        Cohort2          BPTB   51   M          1   NaN   \n",
       "3        S101        Cohort2          BPTB   61   M          1   NaN   \n",
       "4        S102        Cohort2          BPTB   62   M          1   NaN   \n",
       "..        ...            ...           ...  ...  ..        ...   ...   \n",
       "585      S549        Cohort2          BPTB   68   M          3    IV   \n",
       "586      S558        Cohort2          BPTB   71   F          3    IV   \n",
       "587      S560        Cohort2          BPTB   63   M          3    IV   \n",
       "588      S583        Cohort2          BPTB   75   F          3    IV   \n",
       "589      S590        Cohort1          BPTB   74   M          3    IV   \n",
       "\n",
       "    benign_sample_diagnosis  plasma_CA19_9  creatinine     LYVE1       REG1B  \\\n",
       "0                       NaN           11.7     1.83222  0.893219   52.948840   \n",
       "1                       NaN            NaN     0.97266  2.037585   94.467030   \n",
       "2                       NaN            7.0     0.78039  0.145589  102.366000   \n",
       "3                       NaN            8.0     0.70122  0.002805   60.579000   \n",
       "4                       NaN            9.0     0.21489  0.000860   65.540000   \n",
       "..                      ...            ...         ...       ...         ...   \n",
       "585                     NaN            NaN     0.52026  7.058209  156.241000   \n",
       "586                     NaN            NaN     0.85956  8.341207   16.915000   \n",
       "587                     NaN            NaN     1.36851  7.674707  289.701000   \n",
       "588                     NaN            NaN     1.33458  8.206777  205.930000   \n",
       "589                     NaN         1488.0     1.50423  8.200958  411.938275   \n",
       "\n",
       "            TFF1      REG1A  \n",
       "0     654.282174   1262.000  \n",
       "1     209.488250    228.407  \n",
       "2     461.141000        NaN  \n",
       "3     142.950000        NaN  \n",
       "4      41.088000        NaN  \n",
       "..           ...        ...  \n",
       "585   525.178000        NaN  \n",
       "586   245.947000        NaN  \n",
       "587   537.286000        NaN  \n",
       "588   722.523000        NaN  \n",
       "589  2021.321078  13200.000  \n",
       "\n",
       "[590 rows x 14 columns]>"
      ]
     },
     "execution_count": 5,
     "metadata": {},
     "output_type": "execute_result"
    }
   ],
   "source": [
    "data.describe"
   ]
  },
  {
   "cell_type": "code",
   "execution_count": 6,
   "metadata": {
    "id": "lejmIdV5aS7g"
   },
   "outputs": [],
   "source": [
    "# Encoding of sex\n",
    "data['sex'] = data['sex'].astype(str).map({'M': 0,'F': 1})"
   ]
  },
  {
   "cell_type": "code",
   "execution_count": 7,
   "metadata": {
    "colab": {
     "base_uri": "https://localhost:8080/"
    },
    "id": "rYvOHtBwkt2s",
    "outputId": "f617f027-2fbe-44e4-db21-310c7958cad0"
   },
   "outputs": [
    {
     "name": "stdout",
     "output_type": "stream",
     "text": [
      "sample_id  has -> 0 NAs\n",
      "patient_cohort  has -> 0 NAs\n",
      "sample_origin  has -> 0 NAs\n",
      "age  has -> 0 NAs\n",
      "sex  has -> 0 NAs\n",
      "diagnosis  has -> 0 NAs\n",
      "stage  has -> 391 NAs\n",
      "benign_sample_diagnosis  has -> 382 NAs\n",
      "plasma_CA19_9  has -> 240 NAs\n",
      "creatinine  has -> 0 NAs\n",
      "LYVE1  has -> 0 NAs\n",
      "REG1B  has -> 0 NAs\n",
      "TFF1  has -> 0 NAs\n",
      "REG1A  has -> 284 NAs\n"
     ]
    }
   ],
   "source": [
    "# Checking the number of NAs\n",
    "for i in data.columns:\n",
    "  print(i, \" has ->\",data[i].isna().sum(), \"NAs\")"
   ]
  },
  {
   "cell_type": "markdown",
   "metadata": {
    "id": "k4huwCI6iRW_"
   },
   "source": [
    "#### Is the data balanced?"
   ]
  },
  {
   "cell_type": "code",
   "execution_count": 8,
   "metadata": {
    "colab": {
     "base_uri": "https://localhost:8080/",
     "height": 431
    },
    "id": "YZUQIQdziXdC",
    "outputId": "b0127413-762a-4eeb-9c5d-1a5d0de60a45"
   },
   "outputs": [
    {
     "data": {
      "image/png": "[encoded data removed]",
      "text/plain": [
       "<Figure size 720x504 with 1 Axes>"
      ]
     },
     "metadata": {},
     "output_type": "display_data"
    }
   ],
   "source": [
    "labels=['Control', ' Benign Hepatobiliary disease','Cancer']\n",
    "pie_data=[data['diagnosis'].tolist().count(1),data['diagnosis'].tolist().count(2),data['diagnosis'].tolist().count(3)]\n",
    "fig = plt.figure(figsize =(10, 7))\n",
    "plt.title(\"Diagnosis\",size=18)\n",
    "plt.pie(pie_data, labels = labels)\n",
    "plt.show()"
   ]
  },
  {
   "cell_type": "markdown",
   "metadata": {
    "id": "l3j4MFf3lswY"
   },
   "source": [
    "Yes, it is."
   ]
  },
  {
   "cell_type": "markdown",
   "metadata": {
    "id": "hY27h_NVozOc"
   },
   "source": [
    "#### How is the age distributed?"
   ]
  },
  {
   "cell_type": "code",
   "execution_count": 9,
   "metadata": {
    "colab": {
     "base_uri": "https://localhost:8080/",
     "height": 462
    },
    "id": "JZiNkFWYbVQR",
    "outputId": "a6eb6b6e-c588-4c28-acf3-9817dc0a6994"
   },
   "outputs": [
    {
     "data": {
      "image/png": "[encoded data removed]",
      "text/plain": [
       "<Figure size 720x504 with 1 Axes>"
      ]
     },
     "metadata": {
      "needs_background": "light"
     },
     "output_type": "display_data"
    }
   ],
   "source": [
    "plt.figure(1,figsize =(10, 7))\n",
    "plt.hist(data['age'], bins=60)\n",
    "plt.xlim([0,90])\n",
    "plt.xlabel(\"Age\")\n",
    "plt.ylabel(\"Frequency\")\n",
    "plt.title(\"Age distribution\",size=18)\n",
    "plt.show()"
   ]
  },
  {
   "cell_type": "markdown",
   "metadata": {
    "id": "1DSjg8-lpFYL"
   },
   "source": [
    "Patients tend to be old."
   ]
  },
  {
   "cell_type": "markdown",
   "metadata": {
    "id": "0XFhdkIsobQB"
   },
   "source": [
    "#### Is the sex unbalanced?"
   ]
  },
  {
   "cell_type": "code",
   "execution_count": 10,
   "metadata": {
    "colab": {
     "base_uri": "https://localhost:8080/",
     "height": 431
    },
    "id": "NGIUl-yGZqEN",
    "outputId": "f7b4c36a-71f5-4c8a-9717-d1fa99eafdae"
   },
   "outputs": [
    {
     "data": {
      "image/png": "[encoded data removed]",
      "text/plain": [
       "<Figure size 720x504 with 1 Axes>"
      ]
     },
     "metadata": {},
     "output_type": "display_data"
    }
   ],
   "source": [
    "labels=['Male', 'Female']\n",
    "pie_data=[data['sex'].tolist().count(0),data['sex'].tolist().count(1)]\n",
    "fig = plt.figure(figsize =(10, 7))\n",
    "plt.title(\"Males and females in the study\",size=18)\n",
    "plt.pie(pie_data, labels = labels,colors=[\"#A51900\",\"#0B0B45\"])\n",
    "plt.show()"
   ]
  },
  {
   "cell_type": "markdown",
   "metadata": {
    "id": "zMoCjy1seDUi"
   },
   "source": [
    "#### Relationship age - cancer"
   ]
  },
  {
   "cell_type": "code",
   "execution_count": 11,
   "metadata": {
    "colab": {
     "base_uri": "https://localhost:8080/",
     "height": 143
    },
    "id": "WFfMEZnrc_AC",
    "outputId": "9acb6d40-61e5-48cd-b6e3-c4f55cf5d294"
   },
   "outputs": [
    {
     "data": {
      "text/html": [
       "<div>\n",
       "<style scoped>\n",
       "    .dataframe tbody tr th:only-of-type {\n",
       "        vertical-align: middle;\n",
       "    }\n",
       "\n",
       "    .dataframe tbody tr th {\n",
       "        vertical-align: top;\n",
       "    }\n",
       "\n",
       "    .dataframe thead th {\n",
       "        text-align: right;\n",
       "    }\n",
       "</style>\n",
       "<table border=\"1\" class=\"dataframe\">\n",
       "  <thead>\n",
       "    <tr style=\"text-align: right;\">\n",
       "      <th></th>\n",
       "      <th>diagnosis</th>\n",
       "      <th>age</th>\n",
       "    </tr>\n",
       "  </thead>\n",
       "  <tbody>\n",
       "    <tr>\n",
       "      <th>0</th>\n",
       "      <td>1</td>\n",
       "      <td>56.333333</td>\n",
       "    </tr>\n",
       "    <tr>\n",
       "      <th>1</th>\n",
       "      <td>2</td>\n",
       "      <td>54.701923</td>\n",
       "    </tr>\n",
       "    <tr>\n",
       "      <th>2</th>\n",
       "      <td>3</td>\n",
       "      <td>66.180905</td>\n",
       "    </tr>\n",
       "  </tbody>\n",
       "</table>\n",
       "</div>"
      ],
      "text/plain": [
       "   diagnosis        age\n",
       "0          1  56.333333\n",
       "1          2  54.701923\n",
       "2          3  66.180905"
      ]
     },
     "execution_count": 11,
     "metadata": {},
     "output_type": "execute_result"
    }
   ],
   "source": [
    "data[['age', 'diagnosis']].groupby(['diagnosis'], as_index=False).mean().sort_values(by='diagnosis')"
   ]
  },
  {
   "cell_type": "markdown",
   "metadata": {
    "id": "CrQUb4supRrI"
   },
   "source": [
    "Older people have more cancer."
   ]
  },
  {
   "cell_type": "code",
   "execution_count": 12,
   "metadata": {
    "colab": {
     "base_uri": "https://localhost:8080/",
     "height": 225
    },
    "id": "3smerJJWek2V",
    "outputId": "1f555a62-3f53-4d1d-ed08-d76672bdb781"
   },
   "outputs": [
    {
     "data": {
      "image/png": "[encoded data removed]",
      "text/plain": [
       "<Figure size 648x216 with 3 Axes>"
      ]
     },
     "metadata": {
      "needs_background": "light"
     },
     "output_type": "display_data"
    }
   ],
   "source": [
    "sns.FacetGrid(data, col='diagnosis').map(plt.hist, 'age', bins=20)\n",
    "plt.show()"
   ]
  },
  {
   "cell_type": "markdown",
   "metadata": {
    "id": "QmU99o_Wpdkr"
   },
   "source": [
    "Cancer group is more displaced to the right."
   ]
  },
  {
   "cell_type": "markdown",
   "metadata": {
    "id": "H3iGkdkCjt1p"
   },
   "source": [
    "#### Relationship patient cohort - diagnosis"
   ]
  },
  {
   "cell_type": "code",
   "execution_count": 13,
   "metadata": {
    "colab": {
     "base_uri": "https://localhost:8080/",
     "height": 225
    },
    "id": "hdiDvG6XkSzR",
    "outputId": "820992f7-0849-44f1-bf87-1623097e0ee2"
   },
   "outputs": [
    {
     "data": {
      "image/png": "[encoded data removed]",
      "text/plain": [
       "<Figure size 648x216 with 3 Axes>"
      ]
     },
     "metadata": {
      "needs_background": "light"
     },
     "output_type": "display_data"
    }
   ],
   "source": [
    "sns.displot(data, x=\"patient_cohort\", col=\"diagnosis\",binwidth=3, height=3, facet_kws=dict(margin_titles=True))\n",
    "plt.show()"
   ]
  },
  {
   "cell_type": "markdown",
   "metadata": {
    "id": "9ZT_PSFFpnyf"
   },
   "source": [
    "Cohort 1 presents more patients with cancer. This can make our algorithm take wrong conclusions."
   ]
  },
  {
   "cell_type": "markdown",
   "metadata": {
    "id": "9zwk9WMwePRn"
   },
   "source": [
    "#### Relationship sample origin - diagnosis"
   ]
  },
  {
   "cell_type": "code",
   "execution_count": 14,
   "metadata": {
    "colab": {
     "base_uri": "https://localhost:8080/",
     "height": 225
    },
    "id": "kEEdf3Hve4iT",
    "outputId": "479a6bf0-6a1f-45b8-d1eb-7d718a5cdc5e"
   },
   "outputs": [
    {
     "data": {
      "image/png": "[encoded data removed]",
      "text/plain": [
       "<Figure size 648x216 with 3 Axes>"
      ]
     },
     "metadata": {
      "needs_background": "light"
     },
     "output_type": "display_data"
    }
   ],
   "source": [
    "sns.displot(data, x=\"sample_origin\", col=\"diagnosis\",binwidth=3, height=3, facet_kws=dict(margin_titles=True))\n",
    "plt.show()"
   ]
  },
  {
   "cell_type": "markdown",
   "metadata": {
    "id": "bmVV8zIHpwjl"
   },
   "source": [
    "All the control samples come from BPTB (Barts Pancreas Tissue Bank). This can infuenciate the results."
   ]
  },
  {
   "cell_type": "code",
   "execution_count": 15,
   "metadata": {
    "id": "ZA1p0AjDjbS2"
   },
   "outputs": [],
   "source": [
    "data = data.drop(['sample_origin','patient_cohort'], 1)"
   ]
  },
  {
   "cell_type": "markdown",
   "metadata": {
    "id": "FSPA1eXvkugH"
   },
   "source": [
    "#### Relationship biomarkers - diagnosis"
   ]
  },
  {
   "cell_type": "code",
   "execution_count": 16,
   "metadata": {
    "colab": {
     "base_uri": "https://localhost:8080/",
     "height": 143
    },
    "id": "lZHz6x7FhBbx",
    "outputId": "402017a4-0d44-4563-8ae2-352002dcabf8"
   },
   "outputs": [
    {
     "data": {
      "text/html": [
       "<div>\n",
       "<style scoped>\n",
       "    .dataframe tbody tr th:only-of-type {\n",
       "        vertical-align: middle;\n",
       "    }\n",
       "\n",
       "    .dataframe tbody tr th {\n",
       "        vertical-align: top;\n",
       "    }\n",
       "\n",
       "    .dataframe thead th {\n",
       "        text-align: right;\n",
       "    }\n",
       "</style>\n",
       "<table border=\"1\" class=\"dataframe\">\n",
       "  <thead>\n",
       "    <tr style=\"text-align: right;\">\n",
       "      <th></th>\n",
       "      <th>diagnosis</th>\n",
       "      <th>plasma_CA19_9</th>\n",
       "      <th>creatinine</th>\n",
       "      <th>LYVE1</th>\n",
       "      <th>REG1B</th>\n",
       "      <th>TFF1</th>\n",
       "      <th>REG1A</th>\n",
       "    </tr>\n",
       "  </thead>\n",
       "  <tbody>\n",
       "    <tr>\n",
       "      <th>0</th>\n",
       "      <td>1</td>\n",
       "      <td>8.749569</td>\n",
       "      <td>0.797633</td>\n",
       "      <td>1.212887</td>\n",
       "      <td>41.327901</td>\n",
       "      <td>169.024140</td>\n",
       "      <td>227.871886</td>\n",
       "    </tr>\n",
       "    <tr>\n",
       "      <th>1</th>\n",
       "      <td>2</td>\n",
       "      <td>61.785741</td>\n",
       "      <td>0.847929</td>\n",
       "      <td>2.084612</td>\n",
       "      <td>64.174510</td>\n",
       "      <td>448.256897</td>\n",
       "      <td>547.458092</td>\n",
       "    </tr>\n",
       "    <tr>\n",
       "      <th>2</th>\n",
       "      <td>3</td>\n",
       "      <td>1476.154733</td>\n",
       "      <td>0.916281</td>\n",
       "      <td>5.788567</td>\n",
       "      <td>226.308587</td>\n",
       "      <td>1148.611527</td>\n",
       "      <td>1138.323721</td>\n",
       "    </tr>\n",
       "  </tbody>\n",
       "</table>\n",
       "</div>"
      ],
      "text/plain": [
       "   diagnosis  plasma_CA19_9  creatinine     LYVE1       REG1B         TFF1  \\\n",
       "0          1       8.749569    0.797633  1.212887   41.327901   169.024140   \n",
       "1          2      61.785741    0.847929  2.084612   64.174510   448.256897   \n",
       "2          3    1476.154733    0.916281  5.788567  226.308587  1148.611527   \n",
       "\n",
       "         REG1A  \n",
       "0   227.871886  \n",
       "1   547.458092  \n",
       "2  1138.323721  "
      ]
     },
     "execution_count": 16,
     "metadata": {},
     "output_type": "execute_result"
    }
   ],
   "source": [
    "data[['plasma_CA19_9','creatinine','LYVE1','REG1B','TFF1','REG1A',\n",
    "      'diagnosis']].groupby(['diagnosis'], as_index=False).mean().sort_values(by='diagnosis')"
   ]
  },
  {
   "cell_type": "markdown",
   "metadata": {
    "id": "DBTcxOODqaGT"
   },
   "source": [
    "People with cancer have more CA19_9, creatinine, LYVE1, REG1B, TFF1\tand REG1A."
   ]
  },
  {
   "cell_type": "markdown",
   "metadata": {
    "id": "FNTj-43EraV_"
   },
   "source": [
    "##### Plot of the biomarkers without NA"
   ]
  },
  {
   "cell_type": "code",
   "execution_count": 17,
   "metadata": {
    "colab": {
     "base_uri": "https://localhost:8080/",
     "height": 867
    },
    "id": "8ZYaBBnJi2aI",
    "outputId": "c0260734-2685-4481-9947-abd800feb92c"
   },
   "outputs": [
    {
     "data": {
      "text/plain": [
       "<Figure size 720x504 with 0 Axes>"
      ]
     },
     "metadata": {},
     "output_type": "display_data"
    },
    {
     "data": {
      "image/png": "[encoded data removed]",
      "text/plain": [
       "<Figure size 648x216 with 3 Axes>"
      ]
     },
     "metadata": {
      "needs_background": "light"
     },
     "output_type": "display_data"
    },
    {
     "data": {
      "image/png": "[encoded data removed]",
      "text/plain": [
       "<Figure size 648x216 with 3 Axes>"
      ]
     },
     "metadata": {
      "needs_background": "light"
     },
     "output_type": "display_data"
    },
    {
     "data": {
      "image/png": "[encoded data removed]",
      "text/plain": [
       "<Figure size 648x216 with 3 Axes>"
      ]
     },
     "metadata": {
      "needs_background": "light"
     },
     "output_type": "display_data"
    },
    {
     "data": {
      "image/png": "[encoded data removed]",
      "text/plain": [
       "<Figure size 648x216 with 3 Axes>"
      ]
     },
     "metadata": {
      "needs_background": "light"
     },
     "output_type": "display_data"
    }
   ],
   "source": [
    "fig = plt.figure(figsize =(10, 7))\n",
    "sns.FacetGrid(data, col='diagnosis').map(sns.kdeplot, 'creatinine')\n",
    "sns.FacetGrid(data, col='diagnosis').map(sns.kdeplot, 'LYVE1')\n",
    "sns.FacetGrid(data, col='diagnosis').map(sns.kdeplot, 'REG1B')\n",
    "sns.FacetGrid(data, col='diagnosis').map(sns.kdeplot, 'TFF1')\n",
    "plt.show()"
   ]
  },
  {
   "cell_type": "markdown",
   "metadata": {
    "id": "arEhy-qFrsQi"
   },
   "source": [
    "##### Plot of the biomarkers with NA"
   ]
  },
  {
   "cell_type": "code",
   "execution_count": 18,
   "metadata": {
    "colab": {
     "base_uri": "https://localhost:8080/",
     "height": 433
    },
    "id": "kIwNiPenlR7k",
    "outputId": "d9608d94-ec96-451a-fc4f-00d8cd68d84f"
   },
   "outputs": [
    {
     "data": {
      "image/png": "[encoded data removed]",
      "text/plain": [
       "<Figure size 648x216 with 3 Axes>"
      ]
     },
     "metadata": {
      "needs_background": "light"
     },
     "output_type": "display_data"
    },
    {
     "data": {
      "image/png": "[encoded data removed]",
      "text/plain": [
       "<Figure size 648x216 with 3 Axes>"
      ]
     },
     "metadata": {
      "needs_background": "light"
     },
     "output_type": "display_data"
    }
   ],
   "source": [
    "sns.FacetGrid(data, col='diagnosis').map(plt.hist, 'plasma_CA19_9')\n",
    "sns.FacetGrid(data, col='diagnosis').map(plt.hist, 'REG1A')\n",
    "plt.show()"
   ]
  },
  {
   "cell_type": "code",
   "execution_count": 19,
   "metadata": {
    "colab": {
     "base_uri": "https://localhost:8080/",
     "height": 442
    },
    "id": "BB8swKVknPmT",
    "outputId": "db944fb6-c400-4074-b37b-d1ecdd03d816"
   },
   "outputs": [
    {
     "data": {
      "image/png": "[encoded data removed]",
      "text/plain": [
       "<Figure size 1368x504 with 2 Axes>"
      ]
     },
     "metadata": {
      "needs_background": "light"
     },
     "output_type": "display_data"
    }
   ],
   "source": [
    "plt.figure(figsize =(19, 7))\n",
    "plt.subplot(1,2,1)\n",
    "sns.boxplot(x='diagnosis', y='plasma_CA19_9', data=data)\n",
    "plt.subplot(1,2,2)\n",
    "sns.boxplot(x='diagnosis', y='REG1A', data=data)\n",
    "plt.show()"
   ]
  },
  {
   "cell_type": "markdown",
   "metadata": {
    "id": "nYZrJV2vsOcO"
   },
   "source": [
    "#### Extracting biomarkers info"
   ]
  },
  {
   "cell_type": "code",
   "execution_count": 20,
   "metadata": {
    "colab": {
     "base_uri": "https://localhost:8080/",
     "height": 300
    },
    "id": "hmAmuG36oExo",
    "outputId": "dda6c380-63f5-4e38-ff98-b06704918d7e"
   },
   "outputs": [
    {
     "data": {
      "text/html": [
       "<div>\n",
       "<style scoped>\n",
       "    .dataframe tbody tr th:only-of-type {\n",
       "        vertical-align: middle;\n",
       "    }\n",
       "\n",
       "    .dataframe tbody tr th {\n",
       "        vertical-align: top;\n",
       "    }\n",
       "\n",
       "    .dataframe thead th {\n",
       "        text-align: right;\n",
       "    }\n",
       "</style>\n",
       "<table border=\"1\" class=\"dataframe\">\n",
       "  <thead>\n",
       "    <tr style=\"text-align: right;\">\n",
       "      <th></th>\n",
       "      <th>age</th>\n",
       "      <th>sex</th>\n",
       "      <th>diagnosis</th>\n",
       "      <th>plasma_CA19_9</th>\n",
       "      <th>creatinine</th>\n",
       "      <th>LYVE1</th>\n",
       "      <th>REG1B</th>\n",
       "      <th>TFF1</th>\n",
       "      <th>REG1A</th>\n",
       "    </tr>\n",
       "  </thead>\n",
       "  <tbody>\n",
       "    <tr>\n",
       "      <th>count</th>\n",
       "      <td>590.000000</td>\n",
       "      <td>590.000000</td>\n",
       "      <td>590.000000</td>\n",
       "      <td>350.000000</td>\n",
       "      <td>590.000000</td>\n",
       "      <td>590.000000</td>\n",
       "      <td>590.000000</td>\n",
       "      <td>590.000000</td>\n",
       "      <td>306.000000</td>\n",
       "    </tr>\n",
       "    <tr>\n",
       "      <th>mean</th>\n",
       "      <td>59.079661</td>\n",
       "      <td>0.506780</td>\n",
       "      <td>2.027119</td>\n",
       "      <td>654.002944</td>\n",
       "      <td>0.855383</td>\n",
       "      <td>3.063530</td>\n",
       "      <td>111.774090</td>\n",
       "      <td>597.868722</td>\n",
       "      <td>735.281222</td>\n",
       "    </tr>\n",
       "    <tr>\n",
       "      <th>std</th>\n",
       "      <td>13.109520</td>\n",
       "      <td>0.500378</td>\n",
       "      <td>0.804873</td>\n",
       "      <td>2430.317642</td>\n",
       "      <td>0.639028</td>\n",
       "      <td>3.438796</td>\n",
       "      <td>196.267110</td>\n",
       "      <td>1010.477245</td>\n",
       "      <td>1477.247724</td>\n",
       "    </tr>\n",
       "    <tr>\n",
       "      <th>min</th>\n",
       "      <td>26.000000</td>\n",
       "      <td>0.000000</td>\n",
       "      <td>1.000000</td>\n",
       "      <td>0.000000</td>\n",
       "      <td>0.056550</td>\n",
       "      <td>0.000129</td>\n",
       "      <td>0.001104</td>\n",
       "      <td>0.005293</td>\n",
       "      <td>0.000000</td>\n",
       "    </tr>\n",
       "    <tr>\n",
       "      <th>25%</th>\n",
       "      <td>50.000000</td>\n",
       "      <td>0.000000</td>\n",
       "      <td>1.000000</td>\n",
       "      <td>8.000000</td>\n",
       "      <td>0.373230</td>\n",
       "      <td>0.167179</td>\n",
       "      <td>10.757216</td>\n",
       "      <td>43.961000</td>\n",
       "      <td>80.692000</td>\n",
       "    </tr>\n",
       "    <tr>\n",
       "      <th>50%</th>\n",
       "      <td>60.000000</td>\n",
       "      <td>1.000000</td>\n",
       "      <td>2.000000</td>\n",
       "      <td>26.500000</td>\n",
       "      <td>0.723840</td>\n",
       "      <td>1.649862</td>\n",
       "      <td>34.303353</td>\n",
       "      <td>259.873974</td>\n",
       "      <td>208.538500</td>\n",
       "    </tr>\n",
       "    <tr>\n",
       "      <th>75%</th>\n",
       "      <td>69.000000</td>\n",
       "      <td>1.000000</td>\n",
       "      <td>3.000000</td>\n",
       "      <td>294.000000</td>\n",
       "      <td>1.139482</td>\n",
       "      <td>5.205037</td>\n",
       "      <td>122.741013</td>\n",
       "      <td>742.736000</td>\n",
       "      <td>649.000000</td>\n",
       "    </tr>\n",
       "    <tr>\n",
       "      <th>max</th>\n",
       "      <td>89.000000</td>\n",
       "      <td>1.000000</td>\n",
       "      <td>3.000000</td>\n",
       "      <td>31000.000000</td>\n",
       "      <td>4.116840</td>\n",
       "      <td>23.890323</td>\n",
       "      <td>1403.897600</td>\n",
       "      <td>13344.300000</td>\n",
       "      <td>13200.000000</td>\n",
       "    </tr>\n",
       "  </tbody>\n",
       "</table>\n",
       "</div>"
      ],
      "text/plain": [
       "              age         sex   diagnosis  plasma_CA19_9  creatinine  \\\n",
       "count  590.000000  590.000000  590.000000     350.000000  590.000000   \n",
       "mean    59.079661    0.506780    2.027119     654.002944    0.855383   \n",
       "std     13.109520    0.500378    0.804873    2430.317642    0.639028   \n",
       "min     26.000000    0.000000    1.000000       0.000000    0.056550   \n",
       "25%     50.000000    0.000000    1.000000       8.000000    0.373230   \n",
       "50%     60.000000    1.000000    2.000000      26.500000    0.723840   \n",
       "75%     69.000000    1.000000    3.000000     294.000000    1.139482   \n",
       "max     89.000000    1.000000    3.000000   31000.000000    4.116840   \n",
       "\n",
       "            LYVE1        REG1B          TFF1         REG1A  \n",
       "count  590.000000   590.000000    590.000000    306.000000  \n",
       "mean     3.063530   111.774090    597.868722    735.281222  \n",
       "std      3.438796   196.267110   1010.477245   1477.247724  \n",
       "min      0.000129     0.001104      0.005293      0.000000  \n",
       "25%      0.167179    10.757216     43.961000     80.692000  \n",
       "50%      1.649862    34.303353    259.873974    208.538500  \n",
       "75%      5.205037   122.741013    742.736000    649.000000  \n",
       "max     23.890323  1403.897600  13344.300000  13200.000000  "
      ]
     },
     "execution_count": 20,
     "metadata": {},
     "output_type": "execute_result"
    }
   ],
   "source": [
    "data.describe(percentiles=[.25, .5,.75])"
   ]
  },
  {
   "cell_type": "markdown",
   "metadata": {
    "id": "GLrNLIt9ZmJA"
   },
   "source": [
    "## Code implementation"
   ]
  },
  {
   "cell_type": "markdown",
   "metadata": {
    "id": "x4QDmjY5lBRD"
   },
   "source": [
    "### First trial without using plasma_CA19_9 and REG1A\n",
    "We first eliminate sample id, cancer stage, the diagnosis when the sample is benign and plasma_CA19_9 and REG1A."
   ]
  },
  {
   "cell_type": "code",
   "execution_count": 21,
   "metadata": {
    "colab": {
     "base_uri": "https://localhost:8080/",
     "height": 424
    },
    "id": "Yu5M0r27e7TV",
    "outputId": "ba18ad51-5029-462b-fe54-a7c907d68095"
   },
   "outputs": [
    {
     "data": {
      "text/html": [
       "<div>\n",
       "<style scoped>\n",
       "    .dataframe tbody tr th:only-of-type {\n",
       "        vertical-align: middle;\n",
       "    }\n",
       "\n",
       "    .dataframe tbody tr th {\n",
       "        vertical-align: top;\n",
       "    }\n",
       "\n",
       "    .dataframe thead th {\n",
       "        text-align: right;\n",
       "    }\n",
       "</style>\n",
       "<table border=\"1\" class=\"dataframe\">\n",
       "  <thead>\n",
       "    <tr style=\"text-align: right;\">\n",
       "      <th></th>\n",
       "      <th>age</th>\n",
       "      <th>sex</th>\n",
       "      <th>diagnosis</th>\n",
       "      <th>creatinine</th>\n",
       "      <th>LYVE1</th>\n",
       "      <th>REG1B</th>\n",
       "      <th>TFF1</th>\n",
       "    </tr>\n",
       "  </thead>\n",
       "  <tbody>\n",
       "    <tr>\n",
       "      <th>0</th>\n",
       "      <td>33</td>\n",
       "      <td>1</td>\n",
       "      <td>0</td>\n",
       "      <td>1.83222</td>\n",
       "      <td>0.893219</td>\n",
       "      <td>52.948840</td>\n",
       "      <td>654.282174</td>\n",
       "    </tr>\n",
       "    <tr>\n",
       "      <th>1</th>\n",
       "      <td>81</td>\n",
       "      <td>1</td>\n",
       "      <td>0</td>\n",
       "      <td>0.97266</td>\n",
       "      <td>2.037585</td>\n",
       "      <td>94.467030</td>\n",
       "      <td>209.488250</td>\n",
       "    </tr>\n",
       "    <tr>\n",
       "      <th>2</th>\n",
       "      <td>51</td>\n",
       "      <td>0</td>\n",
       "      <td>0</td>\n",
       "      <td>0.78039</td>\n",
       "      <td>0.145589</td>\n",
       "      <td>102.366000</td>\n",
       "      <td>461.141000</td>\n",
       "    </tr>\n",
       "    <tr>\n",
       "      <th>3</th>\n",
       "      <td>61</td>\n",
       "      <td>0</td>\n",
       "      <td>0</td>\n",
       "      <td>0.70122</td>\n",
       "      <td>0.002805</td>\n",
       "      <td>60.579000</td>\n",
       "      <td>142.950000</td>\n",
       "    </tr>\n",
       "    <tr>\n",
       "      <th>4</th>\n",
       "      <td>62</td>\n",
       "      <td>0</td>\n",
       "      <td>0</td>\n",
       "      <td>0.21489</td>\n",
       "      <td>0.000860</td>\n",
       "      <td>65.540000</td>\n",
       "      <td>41.088000</td>\n",
       "    </tr>\n",
       "    <tr>\n",
       "      <th>...</th>\n",
       "      <td>...</td>\n",
       "      <td>...</td>\n",
       "      <td>...</td>\n",
       "      <td>...</td>\n",
       "      <td>...</td>\n",
       "      <td>...</td>\n",
       "      <td>...</td>\n",
       "    </tr>\n",
       "    <tr>\n",
       "      <th>585</th>\n",
       "      <td>68</td>\n",
       "      <td>0</td>\n",
       "      <td>2</td>\n",
       "      <td>0.52026</td>\n",
       "      <td>7.058209</td>\n",
       "      <td>156.241000</td>\n",
       "      <td>525.178000</td>\n",
       "    </tr>\n",
       "    <tr>\n",
       "      <th>586</th>\n",
       "      <td>71</td>\n",
       "      <td>1</td>\n",
       "      <td>2</td>\n",
       "      <td>0.85956</td>\n",
       "      <td>8.341207</td>\n",
       "      <td>16.915000</td>\n",
       "      <td>245.947000</td>\n",
       "    </tr>\n",
       "    <tr>\n",
       "      <th>587</th>\n",
       "      <td>63</td>\n",
       "      <td>0</td>\n",
       "      <td>2</td>\n",
       "      <td>1.36851</td>\n",
       "      <td>7.674707</td>\n",
       "      <td>289.701000</td>\n",
       "      <td>537.286000</td>\n",
       "    </tr>\n",
       "    <tr>\n",
       "      <th>588</th>\n",
       "      <td>75</td>\n",
       "      <td>1</td>\n",
       "      <td>2</td>\n",
       "      <td>1.33458</td>\n",
       "      <td>8.206777</td>\n",
       "      <td>205.930000</td>\n",
       "      <td>722.523000</td>\n",
       "    </tr>\n",
       "    <tr>\n",
       "      <th>589</th>\n",
       "      <td>74</td>\n",
       "      <td>0</td>\n",
       "      <td>2</td>\n",
       "      <td>1.50423</td>\n",
       "      <td>8.200958</td>\n",
       "      <td>411.938275</td>\n",
       "      <td>2021.321078</td>\n",
       "    </tr>\n",
       "  </tbody>\n",
       "</table>\n",
       "<p>590 rows × 7 columns</p>\n",
       "</div>"
      ],
      "text/plain": [
       "     age  sex  diagnosis  creatinine     LYVE1       REG1B         TFF1\n",
       "0     33    1          0     1.83222  0.893219   52.948840   654.282174\n",
       "1     81    1          0     0.97266  2.037585   94.467030   209.488250\n",
       "2     51    0          0     0.78039  0.145589  102.366000   461.141000\n",
       "3     61    0          0     0.70122  0.002805   60.579000   142.950000\n",
       "4     62    0          0     0.21489  0.000860   65.540000    41.088000\n",
       "..   ...  ...        ...         ...       ...         ...          ...\n",
       "585   68    0          2     0.52026  7.058209  156.241000   525.178000\n",
       "586   71    1          2     0.85956  8.341207   16.915000   245.947000\n",
       "587   63    0          2     1.36851  7.674707  289.701000   537.286000\n",
       "588   75    1          2     1.33458  8.206777  205.930000   722.523000\n",
       "589   74    0          2     1.50423  8.200958  411.938275  2021.321078\n",
       "\n",
       "[590 rows x 7 columns]"
      ]
     },
     "execution_count": 21,
     "metadata": {},
     "output_type": "execute_result"
    }
   ],
   "source": [
    "data_1 = data.drop(['sample_id','stage','benign_sample_diagnosis','plasma_CA19_9','REG1A'], 1)\n",
    "data_1[\"diagnosis\"]=data_1[\"diagnosis\"].replace(1, 0) # Changing labels for ML --> 0\n",
    "data_1[\"diagnosis\"]=data_1[\"diagnosis\"].replace(2, 1) # Changing labels for ML --> 1\n",
    "data_1[\"diagnosis\"]=data_1[\"diagnosis\"].replace(3, 2) # Changing labels for ML --> 2\n",
    "data_1"
   ]
  },
  {
   "cell_type": "code",
   "execution_count": 22,
   "metadata": {
    "colab": {
     "base_uri": "https://localhost:8080/"
    },
    "id": "GwtqADQslQ2Q",
    "outputId": "4556e9b2-abbe-4fcc-dc38-ef3f8604295b"
   },
   "outputs": [
    {
     "name": "stdout",
     "output_type": "stream",
     "text": [
      "X_train shape: (531, 6)\n",
      "y_train shape: (531,)\n",
      "X_test shape: (59, 6)\n",
      "y_test shape: (59,)\n"
     ]
    }
   ],
   "source": [
    "x1=data_1.drop(['diagnosis'], 1)\n",
    "y1=data_1['diagnosis']\n",
    "from sklearn.model_selection import train_test_split\n",
    "X_train1, X_test1, y_train1, y_test1 = train_test_split(x1, y1, random_state=44,test_size=0.1)\n",
    "print(\"X_train shape: {}\".format(X_train1.shape))\n",
    "print(\"y_train shape: {}\".format(y_train1.shape))\n",
    "print(\"X_test shape: {}\".format(X_test1.shape))\n",
    "print(\"y_test shape: {}\".format(y_test1.shape))\n",
    "# Scaling train and test in the same way\n",
    "from sklearn.preprocessing import StandardScaler\n",
    "sc = StandardScaler()\n",
    "X_train1 = sc.fit_transform(X_train1)\n",
    "X_test1 = sc.transform(X_test1)"
   ]
  },
  {
   "cell_type": "markdown",
   "metadata": {},
   "source": [
    "We first try all the methods at once."
   ]
  },
  {
   "cell_type": "code",
   "execution_count": 23,
   "metadata": {},
   "outputs": [
    {
     "data": {
      "text/plain": [
       "[('RF', 63.26573796508552),\n",
       " ('LR', 61.00687709398696),\n",
       " ('XGB', 60.62775524598837),\n",
       " ('SVC', 59.869511549991174),\n",
       " ('KNN', 59.686122377005816),\n",
       " ('NB', 55.17898077940397)]"
      ]
     },
     "execution_count": 23,
     "metadata": {},
     "output_type": "execute_result"
    }
   ],
   "source": [
    "try_all(X_train1,y_train1)"
   ]
  },
  {
   "cell_type": "markdown",
   "metadata": {},
   "source": [
    "#### Logistic regression"
   ]
  },
  {
   "cell_type": "code",
   "execution_count": 24,
   "metadata": {
    "colab": {
     "base_uri": "https://localhost:8080/"
    },
    "id": "2ODPMVlZe2KV",
    "outputId": "2044a3dc-c23e-4a16-b3b8-bac61ecc44a1"
   },
   "outputs": [
    {
     "name": "stdout",
     "output_type": "stream",
     "text": [
      "Best penalty: none\n",
      "Best solver: newton-cg\n"
     ]
    }
   ],
   "source": [
    "#Convert to dictionary\n",
    "hyperparameters_lr = dict(penalty= ['l1', 'l2', 'elasticnet', 'none'], \n",
    "                          solver = ['newton-cg', 'lbfgs', 'liblinear', 'sag', 'saga'])\n",
    "#Use GridSearch\n",
    "lr_try = GridSearchCV(LogisticRegression(random_state=1), hyperparameters_lr, cv=10)\n",
    "#Fit the model\n",
    "best_model_lr = lr_try.fit(X_train1, y_train1)\n",
    "print('Best penalty:', best_model_lr.best_estimator_.get_params()['penalty'])\n",
    "print('Best solver:', best_model_lr.best_estimator_.get_params()['solver'])"
   ]
  },
  {
   "cell_type": "code",
   "execution_count": 25,
   "metadata": {
    "colab": {
     "base_uri": "https://localhost:8080/"
    },
    "id": "IwxezwtGe9pZ",
    "outputId": "7249fbd0-824a-48f9-dd40-ee47b1b34982"
   },
   "outputs": [
    {
     "name": "stdout",
     "output_type": "stream",
     "text": [
      "[0.6635514  0.69811321 0.62264151 0.53773585 0.55660377]\n",
      "Mean accuracy:  0.616\n"
     ]
    }
   ],
   "source": [
    "lr_def = LogisticRegression(penalty='none',solver='newton-cg',random_state=1)\n",
    "lr_def .fit(X_train1, y_train1)\n",
    "Y_pred_lr_def  = lr_def .predict(X_test1)\n",
    "acc_lr_def  = round(lr_def.score(X_test1, y_test1) * 100, 2)\n",
    "scores = cross_val_score(lr_def, X_train1,y_train1, cv=5)\n",
    "print(scores)\n",
    "print(\"Mean accuracy: \",round(np.mean(scores),3))"
   ]
  },
  {
   "cell_type": "markdown",
   "metadata": {},
   "source": [
    "#### Random forest"
   ]
  },
  {
   "cell_type": "code",
   "execution_count": 26,
   "metadata": {
    "colab": {
     "base_uri": "https://localhost:8080/",
     "height": 331
    },
    "id": "AXVOkg29poIG",
    "outputId": "593d5c0d-555c-4374-8c4e-e3d918fbfffe"
   },
   "outputs": [
    {
     "name": "stdout",
     "output_type": "stream",
     "text": [
      "Best number of estimators: 19\n",
      "Best minimum samples split: 11\n"
     ]
    },
    {
     "data": {
      "image/png": "[encoded data removed]",
      "text/plain": [
       "<Figure size 432x288 with 1 Axes>"
      ]
     },
     "metadata": {
      "needs_background": "light"
     },
     "output_type": "display_data"
    }
   ],
   "source": [
    "#Hyperparameters dictionary\n",
    "hyperparameters = dict(n_estimators=[15,16,17,18,19,20,21,22,23,24,25], min_samples_split = [9, 10,11])\n",
    "#Use GridSearch\n",
    "rf_try_1 = GridSearchCV(RandomForestClassifier(random_state=1), hyperparameters, cv=10)\n",
    "#Fit the model\n",
    "best_model1 = rf_try_1.fit(X_train1, y_train1)\n",
    "print('Best number of estimators:', best_model1.best_estimator_.get_params()['n_estimators'])\n",
    "print('Best minimum samples split:', best_model1.best_estimator_.get_params()['min_samples_split'])\n",
    "#Convert to dictionary\n",
    "hyperparameters = dict(n_estimators=np.arange(1,25))\n",
    "#Use GridSearch\n",
    "rf_try_2 = GridSearchCV(RandomForestClassifier(min_samples_split=11,random_state=1), hyperparameters, cv=10)\n",
    "#Fit the model\n",
    "best_model =rf_try_2.fit(X_train1, y_train1)\n",
    "vals=[rf_try_2.cv_results_[\"params\"][i][\"n_estimators\"] for i in range(len(rf_try_2.cv_results_[\"params\"])) ]\n",
    "plt.plot(vals,rf_try_2.cv_results_[\"mean_test_score\"])\n",
    "plt.title(\"Number of estimators - Accuracy\")\n",
    "plt.xlabel(\"Number of estimators\")\n",
    "plt.ylabel(\"Accuracies\")\n",
    "plt.show()"
   ]
  },
  {
   "cell_type": "code",
   "execution_count": 27,
   "metadata": {
    "colab": {
     "base_uri": "https://localhost:8080/"
    },
    "id": "ZKCFf8K7r9qv",
    "outputId": "4f1835e6-63c6-41bf-eb67-961808d4fb34"
   },
   "outputs": [
    {
     "name": "stdout",
     "output_type": "stream",
     "text": [
      "[0.68224299 0.63207547 0.62264151 0.5754717  0.58490566]\n",
      "Mean accuracy:  0.619\n"
     ]
    }
   ],
   "source": [
    "rf = RandomForestClassifier(n_estimators=19,min_samples_split=11,random_state=1)\n",
    "rf.fit(X_train1, y_train1)\n",
    "Y_pred = rf.predict(X_test1)\n",
    "acc_rf = round(rf.score(X_test1, y_test1) * 100, 2)\n",
    "scores = cross_val_score(rf, X_train1,y_train1, cv=5)\n",
    "print(scores)\n",
    "print(\"Mean accuracy: \",round(np.mean(scores),3))"
   ]
  },
  {
   "cell_type": "markdown",
   "metadata": {},
   "source": [
    "The best method for this first problem is using a **Random Forest classifier**."
   ]
  },
  {
   "cell_type": "markdown",
   "metadata": {
    "id": "V8_O1k8_rhnb"
   },
   "source": [
    "### Second trial using plasma_CA19_9 and REG1A\n",
    "This time we will use the values with NA."
   ]
  },
  {
   "cell_type": "code",
   "execution_count": 28,
   "metadata": {
    "colab": {
     "base_uri": "https://localhost:8080/",
     "height": 424
    },
    "id": "Dm-3sih0rmus",
    "outputId": "a1083a3d-38f7-4ac2-fd7a-38da831c6739"
   },
   "outputs": [
    {
     "data": {
      "text/html": [
       "<div>\n",
       "<style scoped>\n",
       "    .dataframe tbody tr th:only-of-type {\n",
       "        vertical-align: middle;\n",
       "    }\n",
       "\n",
       "    .dataframe tbody tr th {\n",
       "        vertical-align: top;\n",
       "    }\n",
       "\n",
       "    .dataframe thead th {\n",
       "        text-align: right;\n",
       "    }\n",
       "</style>\n",
       "<table border=\"1\" class=\"dataframe\">\n",
       "  <thead>\n",
       "    <tr style=\"text-align: right;\">\n",
       "      <th></th>\n",
       "      <th>age</th>\n",
       "      <th>sex</th>\n",
       "      <th>diagnosis</th>\n",
       "      <th>plasma_CA19_9</th>\n",
       "      <th>creatinine</th>\n",
       "      <th>LYVE1</th>\n",
       "      <th>REG1B</th>\n",
       "      <th>TFF1</th>\n",
       "      <th>REG1A</th>\n",
       "    </tr>\n",
       "  </thead>\n",
       "  <tbody>\n",
       "    <tr>\n",
       "      <th>0</th>\n",
       "      <td>33</td>\n",
       "      <td>1</td>\n",
       "      <td>0</td>\n",
       "      <td>11.7</td>\n",
       "      <td>1.83222</td>\n",
       "      <td>0.893219</td>\n",
       "      <td>52.948840</td>\n",
       "      <td>654.282174</td>\n",
       "      <td>1262.000</td>\n",
       "    </tr>\n",
       "    <tr>\n",
       "      <th>1</th>\n",
       "      <td>81</td>\n",
       "      <td>1</td>\n",
       "      <td>0</td>\n",
       "      <td>NaN</td>\n",
       "      <td>0.97266</td>\n",
       "      <td>2.037585</td>\n",
       "      <td>94.467030</td>\n",
       "      <td>209.488250</td>\n",
       "      <td>228.407</td>\n",
       "    </tr>\n",
       "    <tr>\n",
       "      <th>2</th>\n",
       "      <td>51</td>\n",
       "      <td>0</td>\n",
       "      <td>0</td>\n",
       "      <td>7.0</td>\n",
       "      <td>0.78039</td>\n",
       "      <td>0.145589</td>\n",
       "      <td>102.366000</td>\n",
       "      <td>461.141000</td>\n",
       "      <td>NaN</td>\n",
       "    </tr>\n",
       "    <tr>\n",
       "      <th>3</th>\n",
       "      <td>61</td>\n",
       "      <td>0</td>\n",
       "      <td>0</td>\n",
       "      <td>8.0</td>\n",
       "      <td>0.70122</td>\n",
       "      <td>0.002805</td>\n",
       "      <td>60.579000</td>\n",
       "      <td>142.950000</td>\n",
       "      <td>NaN</td>\n",
       "    </tr>\n",
       "    <tr>\n",
       "      <th>4</th>\n",
       "      <td>62</td>\n",
       "      <td>0</td>\n",
       "      <td>0</td>\n",
       "      <td>9.0</td>\n",
       "      <td>0.21489</td>\n",
       "      <td>0.000860</td>\n",
       "      <td>65.540000</td>\n",
       "      <td>41.088000</td>\n",
       "      <td>NaN</td>\n",
       "    </tr>\n",
       "    <tr>\n",
       "      <th>...</th>\n",
       "      <td>...</td>\n",
       "      <td>...</td>\n",
       "      <td>...</td>\n",
       "      <td>...</td>\n",
       "      <td>...</td>\n",
       "      <td>...</td>\n",
       "      <td>...</td>\n",
       "      <td>...</td>\n",
       "      <td>...</td>\n",
       "    </tr>\n",
       "    <tr>\n",
       "      <th>585</th>\n",
       "      <td>68</td>\n",
       "      <td>0</td>\n",
       "      <td>2</td>\n",
       "      <td>NaN</td>\n",
       "      <td>0.52026</td>\n",
       "      <td>7.058209</td>\n",
       "      <td>156.241000</td>\n",
       "      <td>525.178000</td>\n",
       "      <td>NaN</td>\n",
       "    </tr>\n",
       "    <tr>\n",
       "      <th>586</th>\n",
       "      <td>71</td>\n",
       "      <td>1</td>\n",
       "      <td>2</td>\n",
       "      <td>NaN</td>\n",
       "      <td>0.85956</td>\n",
       "      <td>8.341207</td>\n",
       "      <td>16.915000</td>\n",
       "      <td>245.947000</td>\n",
       "      <td>NaN</td>\n",
       "    </tr>\n",
       "    <tr>\n",
       "      <th>587</th>\n",
       "      <td>63</td>\n",
       "      <td>0</td>\n",
       "      <td>2</td>\n",
       "      <td>NaN</td>\n",
       "      <td>1.36851</td>\n",
       "      <td>7.674707</td>\n",
       "      <td>289.701000</td>\n",
       "      <td>537.286000</td>\n",
       "      <td>NaN</td>\n",
       "    </tr>\n",
       "    <tr>\n",
       "      <th>588</th>\n",
       "      <td>75</td>\n",
       "      <td>1</td>\n",
       "      <td>2</td>\n",
       "      <td>NaN</td>\n",
       "      <td>1.33458</td>\n",
       "      <td>8.206777</td>\n",
       "      <td>205.930000</td>\n",
       "      <td>722.523000</td>\n",
       "      <td>NaN</td>\n",
       "    </tr>\n",
       "    <tr>\n",
       "      <th>589</th>\n",
       "      <td>74</td>\n",
       "      <td>0</td>\n",
       "      <td>2</td>\n",
       "      <td>1488.0</td>\n",
       "      <td>1.50423</td>\n",
       "      <td>8.200958</td>\n",
       "      <td>411.938275</td>\n",
       "      <td>2021.321078</td>\n",
       "      <td>13200.000</td>\n",
       "    </tr>\n",
       "  </tbody>\n",
       "</table>\n",
       "<p>590 rows × 9 columns</p>\n",
       "</div>"
      ],
      "text/plain": [
       "     age  sex  diagnosis  plasma_CA19_9  creatinine     LYVE1       REG1B  \\\n",
       "0     33    1          0           11.7     1.83222  0.893219   52.948840   \n",
       "1     81    1          0            NaN     0.97266  2.037585   94.467030   \n",
       "2     51    0          0            7.0     0.78039  0.145589  102.366000   \n",
       "3     61    0          0            8.0     0.70122  0.002805   60.579000   \n",
       "4     62    0          0            9.0     0.21489  0.000860   65.540000   \n",
       "..   ...  ...        ...            ...         ...       ...         ...   \n",
       "585   68    0          2            NaN     0.52026  7.058209  156.241000   \n",
       "586   71    1          2            NaN     0.85956  8.341207   16.915000   \n",
       "587   63    0          2            NaN     1.36851  7.674707  289.701000   \n",
       "588   75    1          2            NaN     1.33458  8.206777  205.930000   \n",
       "589   74    0          2         1488.0     1.50423  8.200958  411.938275   \n",
       "\n",
       "            TFF1      REG1A  \n",
       "0     654.282174   1262.000  \n",
       "1     209.488250    228.407  \n",
       "2     461.141000        NaN  \n",
       "3     142.950000        NaN  \n",
       "4      41.088000        NaN  \n",
       "..           ...        ...  \n",
       "585   525.178000        NaN  \n",
       "586   245.947000        NaN  \n",
       "587   537.286000        NaN  \n",
       "588   722.523000        NaN  \n",
       "589  2021.321078  13200.000  \n",
       "\n",
       "[590 rows x 9 columns]"
      ]
     },
     "execution_count": 28,
     "metadata": {},
     "output_type": "execute_result"
    }
   ],
   "source": [
    "data_2 = data.drop(['sample_id','stage','benign_sample_diagnosis'], 1)\n",
    "data_2[\"diagnosis\"]=data_2[\"diagnosis\"].replace(1, 0) # Changing labels for ML --> 0\n",
    "data_2[\"diagnosis\"]=data_2[\"diagnosis\"].replace(2, 1) # Changing labels for ML --> 1\n",
    "data_2[\"diagnosis\"]=data_2[\"diagnosis\"].replace(3, 2) # Changing labels for ML --> 2\n",
    "data_2"
   ]
  },
  {
   "cell_type": "markdown",
   "metadata": {
    "id": "5Q1mq58SuCVa"
   },
   "source": [
    "We will see CA19_9 groups optimized for subsequent separation of this numerical variable to categorical."
   ]
  },
  {
   "cell_type": "code",
   "execution_count": 29,
   "metadata": {
    "colab": {
     "base_uri": "https://localhost:8080/",
     "height": 112
    },
    "id": "EJX2KuSHtQ-u",
    "outputId": "9f1f688b-ad69-4444-c2f8-28ebd417c413"
   },
   "outputs": [
    {
     "data": {
      "text/html": [
       "<div>\n",
       "<style scoped>\n",
       "    .dataframe tbody tr th:only-of-type {\n",
       "        vertical-align: middle;\n",
       "    }\n",
       "\n",
       "    .dataframe tbody tr th {\n",
       "        vertical-align: top;\n",
       "    }\n",
       "\n",
       "    .dataframe thead th {\n",
       "        text-align: right;\n",
       "    }\n",
       "</style>\n",
       "<table border=\"1\" class=\"dataframe\">\n",
       "  <thead>\n",
       "    <tr style=\"text-align: right;\">\n",
       "      <th></th>\n",
       "      <th>plasma_CA19_9_groups</th>\n",
       "      <th>diagnosis</th>\n",
       "    </tr>\n",
       "  </thead>\n",
       "  <tbody>\n",
       "    <tr>\n",
       "      <th>0</th>\n",
       "      <td>(-31.0, 15500.0]</td>\n",
       "      <td>1.16092</td>\n",
       "    </tr>\n",
       "    <tr>\n",
       "      <th>1</th>\n",
       "      <td>(15500.0, 31000.0]</td>\n",
       "      <td>2.00000</td>\n",
       "    </tr>\n",
       "  </tbody>\n",
       "</table>\n",
       "</div>"
      ],
      "text/plain": [
       "  plasma_CA19_9_groups  diagnosis\n",
       "0     (-31.0, 15500.0]    1.16092\n",
       "1   (15500.0, 31000.0]    2.00000"
      ]
     },
     "execution_count": 29,
     "metadata": {},
     "output_type": "execute_result"
    }
   ],
   "source": [
    "data_2['plasma_CA19_9_groups'] = pd.cut(data_2['plasma_CA19_9'], 2)\n",
    "data_2[['plasma_CA19_9_groups', 'diagnosis']].groupby(['plasma_CA19_9_groups'], as_index=False).mean().sort_values(by='plasma_CA19_9_groups', ascending=True)"
   ]
  },
  {
   "cell_type": "code",
   "execution_count": 30,
   "metadata": {
    "id": "xWO-emebuBRv"
   },
   "outputs": [],
   "source": [
    "data_2.loc[(data_2['plasma_CA19_9'] > 0) & (data_2['plasma_CA19_9'] <= 15500), 'new_plasma'] = 2\n",
    "data_2.loc[(data_2['plasma_CA19_9'] > 15500) & (data_2['plasma_CA19_9'] <= 31000), 'new_plasma'] = 3\n",
    "data_2['new_plasma'] = data_2['new_plasma'].fillna(1)"
   ]
  },
  {
   "cell_type": "markdown",
   "metadata": {
    "id": "4wwE5BzMuPVP"
   },
   "source": [
    "We will see REG1A groups optimized for subsequent separation of this numerical variable to categorical."
   ]
  },
  {
   "cell_type": "code",
   "execution_count": 31,
   "metadata": {
    "colab": {
     "base_uri": "https://localhost:8080/",
     "height": 143
    },
    "id": "JjWR7Q1ex_qj",
    "outputId": "ba57e79b-04ec-4501-94b1-446421011276"
   },
   "outputs": [
    {
     "data": {
      "text/html": [
       "<div>\n",
       "<style scoped>\n",
       "    .dataframe tbody tr th:only-of-type {\n",
       "        vertical-align: middle;\n",
       "    }\n",
       "\n",
       "    .dataframe tbody tr th {\n",
       "        vertical-align: top;\n",
       "    }\n",
       "\n",
       "    .dataframe thead th {\n",
       "        text-align: right;\n",
       "    }\n",
       "</style>\n",
       "<table border=\"1\" class=\"dataframe\">\n",
       "  <thead>\n",
       "    <tr style=\"text-align: right;\">\n",
       "      <th></th>\n",
       "      <th>REG1A_groups</th>\n",
       "      <th>diagnosis</th>\n",
       "    </tr>\n",
       "  </thead>\n",
       "  <tbody>\n",
       "    <tr>\n",
       "      <th>0</th>\n",
       "      <td>(-13.2, 4400.0]</td>\n",
       "      <td>1.184564</td>\n",
       "    </tr>\n",
       "    <tr>\n",
       "      <th>1</th>\n",
       "      <td>(4400.0, 8800.0]</td>\n",
       "      <td>1.714286</td>\n",
       "    </tr>\n",
       "    <tr>\n",
       "      <th>2</th>\n",
       "      <td>(8800.0, 13200.0]</td>\n",
       "      <td>2.000000</td>\n",
       "    </tr>\n",
       "  </tbody>\n",
       "</table>\n",
       "</div>"
      ],
      "text/plain": [
       "        REG1A_groups  diagnosis\n",
       "0    (-13.2, 4400.0]   1.184564\n",
       "1   (4400.0, 8800.0]   1.714286\n",
       "2  (8800.0, 13200.0]   2.000000"
      ]
     },
     "execution_count": 31,
     "metadata": {},
     "output_type": "execute_result"
    }
   ],
   "source": [
    "data_2['REG1A_groups'] = pd.cut(data_2['REG1A'], 3)\n",
    "data_2[['REG1A_groups', 'diagnosis']].groupby(['REG1A_groups'], as_index=False).mean().sort_values(by='REG1A_groups', ascending=True)"
   ]
  },
  {
   "cell_type": "code",
   "execution_count": 32,
   "metadata": {
    "id": "BTWGDIr6yymt"
   },
   "outputs": [],
   "source": [
    "data_2.loc[(data_2['REG1A'] > 0) & (data_2['REG1A'] <= 4400), 'new_REG1A'] = 2\n",
    "data_2.loc[(data_2['REG1A'] > 4400) & (data_2['REG1A'] <=  8800), 'new_REG1A'] = 3\n",
    "data_2.loc[(data_2['REG1A'] > 8800) & (data_2['REG1A'] <= 13200), 'new_REG1A'] = 4\n",
    "data_2['new_REG1A'] = data_2['new_REG1A'].fillna(1)"
   ]
  },
  {
   "cell_type": "markdown",
   "metadata": {
    "id": "T96YZ3CDudoS"
   },
   "source": [
    "We eliminate the numerical variables with NA and we see the result."
   ]
  },
  {
   "cell_type": "code",
   "execution_count": 33,
   "metadata": {
    "colab": {
     "base_uri": "https://localhost:8080/",
     "height": 424
    },
    "id": "Cg32K9qszjS5",
    "outputId": "f6c935b1-2401-480f-e3f6-999fa4874d75"
   },
   "outputs": [
    {
     "data": {
      "text/html": [
       "<div>\n",
       "<style scoped>\n",
       "    .dataframe tbody tr th:only-of-type {\n",
       "        vertical-align: middle;\n",
       "    }\n",
       "\n",
       "    .dataframe tbody tr th {\n",
       "        vertical-align: top;\n",
       "    }\n",
       "\n",
       "    .dataframe thead th {\n",
       "        text-align: right;\n",
       "    }\n",
       "</style>\n",
       "<table border=\"1\" class=\"dataframe\">\n",
       "  <thead>\n",
       "    <tr style=\"text-align: right;\">\n",
       "      <th></th>\n",
       "      <th>age</th>\n",
       "      <th>sex</th>\n",
       "      <th>diagnosis</th>\n",
       "      <th>creatinine</th>\n",
       "      <th>LYVE1</th>\n",
       "      <th>REG1B</th>\n",
       "      <th>TFF1</th>\n",
       "      <th>new_plasma</th>\n",
       "      <th>new_REG1A</th>\n",
       "    </tr>\n",
       "  </thead>\n",
       "  <tbody>\n",
       "    <tr>\n",
       "      <th>0</th>\n",
       "      <td>33</td>\n",
       "      <td>1</td>\n",
       "      <td>0</td>\n",
       "      <td>1.83222</td>\n",
       "      <td>0.893219</td>\n",
       "      <td>52.948840</td>\n",
       "      <td>654.282174</td>\n",
       "      <td>2.0</td>\n",
       "      <td>2.0</td>\n",
       "    </tr>\n",
       "    <tr>\n",
       "      <th>1</th>\n",
       "      <td>81</td>\n",
       "      <td>1</td>\n",
       "      <td>0</td>\n",
       "      <td>0.97266</td>\n",
       "      <td>2.037585</td>\n",
       "      <td>94.467030</td>\n",
       "      <td>209.488250</td>\n",
       "      <td>1.0</td>\n",
       "      <td>2.0</td>\n",
       "    </tr>\n",
       "    <tr>\n",
       "      <th>2</th>\n",
       "      <td>51</td>\n",
       "      <td>0</td>\n",
       "      <td>0</td>\n",
       "      <td>0.78039</td>\n",
       "      <td>0.145589</td>\n",
       "      <td>102.366000</td>\n",
       "      <td>461.141000</td>\n",
       "      <td>2.0</td>\n",
       "      <td>1.0</td>\n",
       "    </tr>\n",
       "    <tr>\n",
       "      <th>3</th>\n",
       "      <td>61</td>\n",
       "      <td>0</td>\n",
       "      <td>0</td>\n",
       "      <td>0.70122</td>\n",
       "      <td>0.002805</td>\n",
       "      <td>60.579000</td>\n",
       "      <td>142.950000</td>\n",
       "      <td>2.0</td>\n",
       "      <td>1.0</td>\n",
       "    </tr>\n",
       "    <tr>\n",
       "      <th>4</th>\n",
       "      <td>62</td>\n",
       "      <td>0</td>\n",
       "      <td>0</td>\n",
       "      <td>0.21489</td>\n",
       "      <td>0.000860</td>\n",
       "      <td>65.540000</td>\n",
       "      <td>41.088000</td>\n",
       "      <td>2.0</td>\n",
       "      <td>1.0</td>\n",
       "    </tr>\n",
       "    <tr>\n",
       "      <th>...</th>\n",
       "      <td>...</td>\n",
       "      <td>...</td>\n",
       "      <td>...</td>\n",
       "      <td>...</td>\n",
       "      <td>...</td>\n",
       "      <td>...</td>\n",
       "      <td>...</td>\n",
       "      <td>...</td>\n",
       "      <td>...</td>\n",
       "    </tr>\n",
       "    <tr>\n",
       "      <th>585</th>\n",
       "      <td>68</td>\n",
       "      <td>0</td>\n",
       "      <td>2</td>\n",
       "      <td>0.52026</td>\n",
       "      <td>7.058209</td>\n",
       "      <td>156.241000</td>\n",
       "      <td>525.178000</td>\n",
       "      <td>1.0</td>\n",
       "      <td>1.0</td>\n",
       "    </tr>\n",
       "    <tr>\n",
       "      <th>586</th>\n",
       "      <td>71</td>\n",
       "      <td>1</td>\n",
       "      <td>2</td>\n",
       "      <td>0.85956</td>\n",
       "      <td>8.341207</td>\n",
       "      <td>16.915000</td>\n",
       "      <td>245.947000</td>\n",
       "      <td>1.0</td>\n",
       "      <td>1.0</td>\n",
       "    </tr>\n",
       "    <tr>\n",
       "      <th>587</th>\n",
       "      <td>63</td>\n",
       "      <td>0</td>\n",
       "      <td>2</td>\n",
       "      <td>1.36851</td>\n",
       "      <td>7.674707</td>\n",
       "      <td>289.701000</td>\n",
       "      <td>537.286000</td>\n",
       "      <td>1.0</td>\n",
       "      <td>1.0</td>\n",
       "    </tr>\n",
       "    <tr>\n",
       "      <th>588</th>\n",
       "      <td>75</td>\n",
       "      <td>1</td>\n",
       "      <td>2</td>\n",
       "      <td>1.33458</td>\n",
       "      <td>8.206777</td>\n",
       "      <td>205.930000</td>\n",
       "      <td>722.523000</td>\n",
       "      <td>1.0</td>\n",
       "      <td>1.0</td>\n",
       "    </tr>\n",
       "    <tr>\n",
       "      <th>589</th>\n",
       "      <td>74</td>\n",
       "      <td>0</td>\n",
       "      <td>2</td>\n",
       "      <td>1.50423</td>\n",
       "      <td>8.200958</td>\n",
       "      <td>411.938275</td>\n",
       "      <td>2021.321078</td>\n",
       "      <td>2.0</td>\n",
       "      <td>4.0</td>\n",
       "    </tr>\n",
       "  </tbody>\n",
       "</table>\n",
       "<p>590 rows × 9 columns</p>\n",
       "</div>"
      ],
      "text/plain": [
       "     age  sex  diagnosis  creatinine     LYVE1       REG1B         TFF1  \\\n",
       "0     33    1          0     1.83222  0.893219   52.948840   654.282174   \n",
       "1     81    1          0     0.97266  2.037585   94.467030   209.488250   \n",
       "2     51    0          0     0.78039  0.145589  102.366000   461.141000   \n",
       "3     61    0          0     0.70122  0.002805   60.579000   142.950000   \n",
       "4     62    0          0     0.21489  0.000860   65.540000    41.088000   \n",
       "..   ...  ...        ...         ...       ...         ...          ...   \n",
       "585   68    0          2     0.52026  7.058209  156.241000   525.178000   \n",
       "586   71    1          2     0.85956  8.341207   16.915000   245.947000   \n",
       "587   63    0          2     1.36851  7.674707  289.701000   537.286000   \n",
       "588   75    1          2     1.33458  8.206777  205.930000   722.523000   \n",
       "589   74    0          2     1.50423  8.200958  411.938275  2021.321078   \n",
       "\n",
       "     new_plasma  new_REG1A  \n",
       "0           2.0        2.0  \n",
       "1           1.0        2.0  \n",
       "2           2.0        1.0  \n",
       "3           2.0        1.0  \n",
       "4           2.0        1.0  \n",
       "..          ...        ...  \n",
       "585         1.0        1.0  \n",
       "586         1.0        1.0  \n",
       "587         1.0        1.0  \n",
       "588         1.0        1.0  \n",
       "589         2.0        4.0  \n",
       "\n",
       "[590 rows x 9 columns]"
      ]
     },
     "execution_count": 33,
     "metadata": {},
     "output_type": "execute_result"
    }
   ],
   "source": [
    "data_2=data_2.drop(['plasma_CA19_9','REG1A','REG1A_groups','plasma_CA19_9_groups'], 1)\n",
    "data_2"
   ]
  },
  {
   "cell_type": "markdown",
   "metadata": {
    "id": "7R08Zw2su30p"
   },
   "source": [
    "We split between train and test."
   ]
  },
  {
   "cell_type": "code",
   "execution_count": 34,
   "metadata": {
    "colab": {
     "base_uri": "https://localhost:8080/"
    },
    "id": "2Oe8mXJy0tIU",
    "outputId": "aa53681e-19b9-41aa-9269-34c546f61278"
   },
   "outputs": [
    {
     "name": "stdout",
     "output_type": "stream",
     "text": [
      "X_train2 shape: (531, 8)\n",
      "y_train2 shape: (531,)\n",
      "X_test2 shape: (59, 8)\n",
      "y_test2 shape: (59,)\n"
     ]
    }
   ],
   "source": [
    "x2=data_2.drop(['diagnosis'], 1)\n",
    "y2=data_2['diagnosis']\n",
    "X_train2, X_test2, y_train2, y_test2 = train_test_split(x2, y2, random_state=10,test_size=0.1)\n",
    "print(\"X_train2 shape: {}\".format(X_train2.shape))\n",
    "print(\"y_train2 shape: {}\".format(y_train2.shape))\n",
    "print(\"X_test2 shape: {}\".format(X_test2.shape))\n",
    "print(\"y_test2 shape: {}\".format(y_test2.shape))\n",
    "sc = StandardScaler()\n",
    "X_train2 = sc.fit_transform(X_train2)\n",
    "X_test2 = sc.transform(X_test2)"
   ]
  },
  {
   "cell_type": "markdown",
   "metadata": {},
   "source": [
    "And we try all the methods."
   ]
  },
  {
   "cell_type": "code",
   "execution_count": 35,
   "metadata": {
    "colab": {
     "base_uri": "https://localhost:8080/"
    },
    "id": "OF6aRho1cXWc",
    "outputId": "7d4f044d-6ea1-43d1-c2b8-81d5a5fe776e"
   },
   "outputs": [
    {
     "data": {
      "text/plain": [
       "[('XGB', 67.97919238229589),\n",
       " ('RF', 64.21971433609592),\n",
       " ('LR', 62.320578381237866),\n",
       " ('SVC', 60.827014635866696),\n",
       " ('KNN', 53.85293599012518),\n",
       " ('NB', 52.54276141773937)]"
      ]
     },
     "execution_count": 35,
     "metadata": {},
     "output_type": "execute_result"
    }
   ],
   "source": [
    "try_all(X_train2,y_train2)"
   ]
  },
  {
   "cell_type": "markdown",
   "metadata": {
    "id": "vQB65xkIu7Im"
   },
   "source": [
    "#### XGBoost"
   ]
  },
  {
   "cell_type": "code",
   "execution_count": 36,
   "metadata": {
    "colab": {
     "base_uri": "https://localhost:8080/"
    },
    "id": "CfmVnTa6jDuo",
    "outputId": "9094cd05-44e2-447e-ce71-72da95e61cb3"
   },
   "outputs": [
    {
     "name": "stdout",
     "output_type": "stream",
     "text": [
      "Best booster: dart\n",
      "Best depth: 6\n"
     ]
    }
   ],
   "source": [
    "#Hyperparameters dictionary\n",
    "hyperparameters = dict(booster=['dart','gblinear','gbtree'])\n",
    "#Use GridSearch\n",
    "xgb_try_1 = GridSearchCV(XGBClassifier(), hyperparameters, cv=10)\n",
    "#Fit the model\n",
    "best_model1 = xgb_try_1.fit(X_train2, y_train2)\n",
    "print('Best booster:', best_model1.best_estimator_.get_params()['booster'])\n",
    "#Convert to dictionary\n",
    "hyperparameters = dict(max_depth=np.arange(1,10))\n",
    "#Use GridSearch\n",
    "xgb_try_2 = GridSearchCV(XGBClassifier(booster='dart'), hyperparameters, cv=10)\n",
    "#Fit the model\n",
    "best_model = xgb_try_2.fit(X_train2, y_train2)\n",
    "print('Best depth:', best_model1.best_estimator_.get_params()['max_depth'])"
   ]
  },
  {
   "cell_type": "code",
   "execution_count": 37,
   "metadata": {
    "colab": {
     "base_uri": "https://localhost:8080/"
    },
    "id": "CSoVcNTw1mmw",
    "outputId": "d5a8bf70-7c6e-4452-a604-72516c82d7b1"
   },
   "outputs": [
    {
     "name": "stdout",
     "output_type": "stream",
     "text": [
      "[0.71028037 0.67924528 0.6509434  0.66037736 0.69811321]\n",
      "Mean accuracy:  0.68\n"
     ]
    }
   ],
   "source": [
    "xgb2 = XGBClassifier(booster='dart',max_depth=6)\n",
    "xgb2.fit(X_train2, y_train2)\n",
    "Y_pred2 = xgb2.predict(X_test2)\n",
    "acc_xgb = round(xgb2.score(X_test2, y_test2) * 100, 2)\n",
    "scores = cross_val_score(xgb2, X_train2,y_train2, cv=5)\n",
    "print(scores)\n",
    "print(\"Mean accuracy: \",round(np.mean(scores),3))"
   ]
  },
  {
   "cell_type": "code",
   "execution_count": 38,
   "metadata": {
    "colab": {
     "base_uri": "https://localhost:8080/",
     "height": 295
    },
    "id": "4QnITp1N15XV",
    "outputId": "69ca2040-95f4-47df-8062-5418b59981f6"
   },
   "outputs": [
    {
     "data": {
      "image/png": "[encoded data removed]",
      "text/plain": [
       "<Figure size 432x288 with 2 Axes>"
      ]
     },
     "metadata": {
      "needs_background": "light"
     },
     "output_type": "display_data"
    }
   ],
   "source": [
    "from sklearn.metrics import confusion_matrix, accuracy_score\n",
    "cm = confusion_matrix(y_test2, Y_pred2)\n",
    "ax= plt.subplot()\n",
    "sns.heatmap(cm, annot=True, ax = ax,cmap=\"Greens\")\n",
    "ax.set_xlabel('Predicted labels');ax.set_ylabel('True labels') \n",
    "ax.set_title('Confusion Matrix for XGB')\n",
    "ax.xaxis.set_ticklabels(['Control', 'Benign','Pancreatic cancer']); ax.yaxis.set_ticklabels(['Control', 'Benign','Pancreatic cancer'])\n",
    "plt.show()"
   ]
  },
  {
   "cell_type": "markdown",
   "metadata": {
    "id": "arALIdNeQ328"
   },
   "source": [
    "#### Random Forest"
   ]
  },
  {
   "cell_type": "code",
   "execution_count": 39,
   "metadata": {
    "colab": {
     "base_uri": "https://localhost:8080/",
     "height": 72
    },
    "id": "MXb4Y-MhQ5tv",
    "outputId": "c201956b-fbfe-4e06-959d-9876abe8da6a"
   },
   "outputs": [
    {
     "name": "stdout",
     "output_type": "stream",
     "text": [
      "Best n_estimators: 40\n",
      "Best max_features: auto\n",
      "Best min_samples_split: 10\n",
      "Best min_samples_leaf: 2\n",
      "Best bootstrap: True\n"
     ]
    }
   ],
   "source": [
    "# First big sweep\n",
    "hyperparameters = dict(n_estimators=[1,10,20,30,40,50,60,70,80,90,100], \n",
    "                       max_features = ['auto', 'sqrt'], min_samples_split = [2, 5, 10],\n",
    "                       min_samples_leaf = [1, 2, 4],bootstrap = [True, False])\n",
    "#Use GridSearch\n",
    "rf_try = GridSearchCV(RandomForestClassifier(), hyperparameters, cv=10)\n",
    "#Fit the model\n",
    "best_model = rf_try.fit(X_train2, y_train2)\n",
    "'''\n",
    "'''\n",
    "print('Best n_estimators:', best_model.best_estimator_.get_params()['n_estimators'])\n",
    "print('Best max_features:', best_model.best_estimator_.get_params()['max_features'])\n",
    "print('Best min_samples_split:', best_model.best_estimator_.get_params()['min_samples_split'])\n",
    "print('Best min_samples_leaf:', best_model.best_estimator_.get_params()['min_samples_leaf'])\n",
    "print('Best bootstrap:', best_model.best_estimator_.get_params()['bootstrap'])"
   ]
  },
  {
   "cell_type": "code",
   "execution_count": 40,
   "metadata": {
    "colab": {
     "base_uri": "https://localhost:8080/"
    },
    "id": "HsUUNxivU5Vm",
    "outputId": "4c50ffbe-5579-4aa2-ff87-627c79830ab5"
   },
   "outputs": [
    {
     "name": "stdout",
     "output_type": "stream",
     "text": [
      "Best n_estimators: 18\n",
      "Best min_samples_split: 11\n"
     ]
    }
   ],
   "source": [
    "# Second sweep\n",
    "hyperparameters_rf = dict(n_estimators=[15,16,17,18,19,20,21,22,23,24,25], min_samples_split = [9, 10,11])\n",
    "#Use GridSearch\n",
    "rf_try_2 = GridSearchCV(RandomForestClassifier(max_features = 'auto',min_samples_leaf =  4,bootstrap = True,random_state=1), hyperparameters_rf, cv=10)\n",
    "#Fit the model\n",
    "best_model_rf = rf_try_2.fit(X_train2, y_train2)\n",
    "print('Best n_estimators:', best_model_rf.best_estimator_.get_params()['n_estimators'])\n",
    "print('Best min_samples_split:', best_model_rf.best_estimator_.get_params()['min_samples_split'])"
   ]
  },
  {
   "cell_type": "code",
   "execution_count": 41,
   "metadata": {
    "colab": {
     "base_uri": "https://localhost:8080/"
    },
    "id": "MvjK1AYVTtTk",
    "outputId": "9096e813-896e-4875-ad2b-acf22ea34604"
   },
   "outputs": [
    {
     "name": "stdout",
     "output_type": "stream",
     "text": [
      "[0.65420561 0.66037736 0.62264151 0.6509434  0.66981132]\n",
      "Mean accuracy:  0.652\n"
     ]
    }
   ],
   "source": [
    "rf_def = RandomForestClassifier(n_estimators= 18, max_features= \"auto\",min_samples_split= 11, min_samples_leaf= 4,bootstrap= True,random_state=1)\n",
    "rf_def.fit(X_train2, y_train2)\n",
    "Y_pred_rf = rf_def.predict(X_test2)\n",
    "acc_rf_def = round(rf_def.score(X_test2, y_test2) * 100, 2)\n",
    "scores = cross_val_score(rf_def, X_train2,y_train2, cv=5)\n",
    "print(scores)\n",
    "print(\"Mean accuracy: \",round(np.mean(scores),3))"
   ]
  },
  {
   "cell_type": "code",
   "execution_count": 42,
   "metadata": {
    "colab": {
     "base_uri": "https://localhost:8080/",
     "height": 295
    },
    "id": "ZE-CSC2RMQGx",
    "outputId": "0866c6f8-e7c5-422e-aee1-e9141049d0b8"
   },
   "outputs": [
    {
     "data": {
      "image/png": "[encoded data removed]",
      "text/plain": [
       "<Figure size 432x288 with 1 Axes>"
      ]
     },
     "metadata": {
      "needs_background": "light"
     },
     "output_type": "display_data"
    }
   ],
   "source": [
    "features = ['Age','Sex','Creatinine','LYVE1','REG1B','TFF1','New Plasma','New REG1A'] #Features names\n",
    "importances = rf_def.feature_importances_ # Impurity-based feature importances\n",
    "indices = np.argsort(importances) # Put feature with biggest importance at the top\n",
    "plt.title('Feature Importances')\n",
    "plt.barh(range(len(indices)), importances[indices], color='#000080')\n",
    "plt.yticks(range(len(indices)), [features[i] for i in indices])\n",
    "plt.xlabel('Relative Importance')\n",
    "plt.show()"
   ]
  },
  {
   "cell_type": "markdown",
   "metadata": {},
   "source": [
    "The best method for this first problem is using a **Random Forest classifier**."
   ]
  },
  {
   "cell_type": "markdown",
   "metadata": {
    "id": "sSx0ihYkX4MR"
   },
   "source": [
    "### Third trial just clasifying cancer/ no cancer\n",
    "Now we will just classify between cancer and no cancer."
   ]
  },
  {
   "cell_type": "code",
   "execution_count": 43,
   "metadata": {
    "id": "aAjFYZO4X7Gy"
   },
   "outputs": [],
   "source": [
    "data_3=data_2.copy()\n",
    "data_3[\"diagnosis\"]=data_3[\"diagnosis\"].replace(1, 0) # We just keep the classes cancer and no cancer\n",
    "data_3[\"diagnosis\"]=data_3[\"diagnosis\"].replace(2, 1) # Changing labels for ML --> 1"
   ]
  },
  {
   "cell_type": "code",
   "execution_count": 44,
   "metadata": {
    "colab": {
     "base_uri": "https://localhost:8080/"
    },
    "id": "cIsiX1glYb4j",
    "outputId": "bea91505-2bef-4090-be9e-e31daf7b1637"
   },
   "outputs": [
    {
     "name": "stdout",
     "output_type": "stream",
     "text": [
      "X_train3 shape: (531, 8)\n",
      "y_train3 shape: (531,)\n",
      "X_test3 shape: (59, 8)\n",
      "y_test3 shape: (59,)\n"
     ]
    }
   ],
   "source": [
    "x3=data_3.drop(['diagnosis'], 1)\n",
    "y3=data_3['diagnosis']\n",
    "X_train3, X_test3, y_train3, y_test3 = train_test_split(x3, y3, random_state=1,test_size=0.1)\n",
    "print(\"X_train3 shape: {}\".format(X_train3.shape))\n",
    "print(\"y_train3 shape: {}\".format(y_train3.shape))\n",
    "print(\"X_test3 shape: {}\".format(X_test3.shape))\n",
    "print(\"y_test3 shape: {}\".format(y_test3.shape))\n",
    "sc = StandardScaler()\n",
    "X_train3 = sc.fit_transform(X_train3)\n",
    "X_test3 = sc.transform(X_test3)"
   ]
  },
  {
   "cell_type": "markdown",
   "metadata": {
    "id": "LCG04LLowPAt"
   },
   "source": [
    "We try all the methods at once."
   ]
  },
  {
   "cell_type": "code",
   "execution_count": 45,
   "metadata": {
    "colab": {
     "base_uri": "https://localhost:8080/"
    },
    "id": "c0maOEaFYxjV",
    "outputId": "7734934d-b5db-467e-adaa-9676c2755dc6"
   },
   "outputs": [
    {
     "data": {
      "text/plain": [
       "[('SVC', 84.9444542408746),\n",
       " ('RF', 83.99576794216188),\n",
       " ('KNN', 82.87074590019398),\n",
       " ('LR', 82.49162405219538),\n",
       " ('XGB', 82.11250220419679),\n",
       " ('NB', 78.34597072826661)]"
      ]
     },
     "execution_count": 45,
     "metadata": {},
     "output_type": "execute_result"
    }
   ],
   "source": [
    "try_all(X_train3,y_train3)"
   ]
  },
  {
   "cell_type": "markdown",
   "metadata": {},
   "source": [
    "#### Random Forest"
   ]
  },
  {
   "cell_type": "code",
   "execution_count": 46,
   "metadata": {
    "colab": {
     "base_uri": "https://localhost:8080/"
    },
    "id": "hs0wuUupDM5Z",
    "outputId": "e6d18875-c29d-4f75-fef7-c36305b15fd7"
   },
   "outputs": [
    {
     "name": "stdout",
     "output_type": "stream",
     "text": [
      "Best n_estimators: 60\n",
      "Best max_features: auto\n",
      "Best min_samples_split: 2\n",
      "Best min_samples_leaf: 1\n",
      "Best bootstrap: True\n"
     ]
    }
   ],
   "source": [
    "hyperparameters = dict(n_estimators=[1,10,20,30,40,50,60,70,80,90,100], \n",
    "                       max_features = ['auto', 'sqrt'], min_samples_split = [2, 5, 10],\n",
    "                       min_samples_leaf = [1, 2, 4],bootstrap = [True, False])\n",
    "#Use GridSearch\n",
    "rf_try = GridSearchCV(RandomForestClassifier(random_state=1), hyperparameters, cv=10)\n",
    "#Fit the model\n",
    "best_model = rf_try.fit(X_train3, y_train3)\n",
    "print('Best n_estimators:', best_model.best_estimator_.get_params()['n_estimators'])\n",
    "print('Best max_features:', best_model.best_estimator_.get_params()['max_features'])\n",
    "print('Best min_samples_split:', best_model.best_estimator_.get_params()['min_samples_split'])\n",
    "print('Best min_samples_leaf:', best_model.best_estimator_.get_params()['min_samples_leaf'])\n",
    "print('Best bootstrap:', best_model.best_estimator_.get_params()['bootstrap'])"
   ]
  },
  {
   "cell_type": "code",
   "execution_count": 47,
   "metadata": {
    "colab": {
     "base_uri": "https://localhost:8080/",
     "height": 331
    },
    "id": "IubBUNlCCUnj",
    "outputId": "29e22e78-104e-45d8-e94b-3d384e727e53"
   },
   "outputs": [
    {
     "name": "stdout",
     "output_type": "stream",
     "text": [
      "[0.8317757  0.83018868 0.86792453 0.83018868 0.82075472]\n",
      "Mean accuracy:  0.836\n"
     ]
    },
    {
     "data": {
      "image/png": "[encoded data removed]",
      "text/plain": [
       "<Figure size 432x288 with 2 Axes>"
      ]
     },
     "metadata": {
      "needs_background": "light"
     },
     "output_type": "display_data"
    }
   ],
   "source": [
    "rf_def = RandomForestClassifier(n_estimators=60,max_features=\"auto\",min_samples_split=2,min_samples_leaf=1,bootstrap=True)\n",
    "rf_def.fit(X_train3, y_train3)\n",
    "Y_pred = rf_def.predict(X_test3)\n",
    "acc_rf = round(rf_def.score(X_test3, y_test3) * 100, 2)\n",
    "scores = cross_val_score(rf_def, X_train3,y_train3, cv=5)\n",
    "print(scores)\n",
    "print(\"Mean accuracy: \",round(np.mean(scores),3))\n",
    "from sklearn.metrics import confusion_matrix, accuracy_score\n",
    "cm = confusion_matrix(y_test3, Y_pred)\n",
    "ax= plt.subplot()\n",
    "sns.heatmap(cm, annot=True, ax = ax,cmap=\"Greens\")\n",
    "ax.set_xlabel('Predicted labels');ax.set_ylabel('True labels') \n",
    "ax.set_title('Confusion Matrix for RF')\n",
    "ax.xaxis.set_ticklabels(['Non-cancer','Pancreatic cancer']); ax.yaxis.set_ticklabels(['Non-cancer','Pancreatic cancer'])\n",
    "plt.show()"
   ]
  },
  {
   "cell_type": "markdown",
   "metadata": {},
   "source": [
    "#### Support vector classifier"
   ]
  },
  {
   "cell_type": "code",
   "execution_count": 48,
   "metadata": {
    "colab": {
     "base_uri": "https://localhost:8080/"
    },
    "id": "kgOoRkM0m0yU",
    "outputId": "6a9b71e3-2fff-4853-9914-bf89c5355a20"
   },
   "outputs": [
    {
     "name": "stdout",
     "output_type": "stream",
     "text": [
      "Best gamma: scale\n",
      "Best C: 10\n"
     ]
    }
   ],
   "source": [
    "hyperparameters = dict(gamma=['scale', 'auto'],C=[0.1, 1, 10, 100, 1000])\n",
    "#Use GridSearch\n",
    "svc_try = GridSearchCV(SVC(), hyperparameters, cv=10)\n",
    "#Fit the model\n",
    "best_model = svc_try.fit(X_train3, y_train3)\n",
    "print('Best gamma:', best_model.best_estimator_.get_params()['gamma'])\n",
    "print('Best C:', best_model.best_estimator_.get_params()['C'])"
   ]
  },
  {
   "cell_type": "code",
   "execution_count": 49,
   "metadata": {
    "colab": {
     "base_uri": "https://localhost:8080/",
     "height": 331
    },
    "id": "JoqaZqMango5",
    "outputId": "ebd3c829-f104-498a-8d16-58ee99fe5d7d"
   },
   "outputs": [
    {
     "name": "stdout",
     "output_type": "stream",
     "text": [
      "[0.85046729 0.85849057 0.88679245 0.81132075 0.81132075]\n",
      "Mean accuracy:  0.844\n"
     ]
    },
    {
     "data": {
      "image/png": "[encoded data removed]",
      "text/plain": [
       "<Figure size 432x288 with 2 Axes>"
      ]
     },
     "metadata": {
      "needs_background": "light"
     },
     "output_type": "display_data"
    }
   ],
   "source": [
    "svc_def = SVC(C=10,gamma=\"scale\")\n",
    "svc_def.fit(X_train3, y_train3)\n",
    "Y_pred = svc_def.predict(X_test3)\n",
    "acc_rf = round(svc_def.score(X_test3, y_test3) * 100, 2)\n",
    "scores = cross_val_score(svc_def, X_train3,y_train3, cv=5)\n",
    "print(scores)\n",
    "print(\"Mean accuracy: \",round(np.mean(scores),3))\n",
    "from sklearn.metrics import confusion_matrix, accuracy_score\n",
    "cm = confusion_matrix(y_test3, Y_pred)\n",
    "ax= plt.subplot()\n",
    "sns.heatmap(cm, annot=True, ax = ax,cmap=\"Greens\")\n",
    "ax.set_xlabel('Predicted labels');ax.set_ylabel('True labels') \n",
    "ax.set_title('Confusion Matrix for SVC')\n",
    "ax.xaxis.set_ticklabels(['Non-cancer','Pancreatic cancer']); ax.yaxis.set_ticklabels(['Non-cancer','Pancreatic cancer'])\n",
    "plt.show()"
   ]
  },
  {
   "cell_type": "code",
   "execution_count": 50,
   "metadata": {
    "colab": {
     "base_uri": "https://localhost:8080/",
     "height": 295
    },
    "id": "WP9GgkF251C-",
    "outputId": "547af6a7-1878-4ade-faec-216746fef20c"
   },
   "outputs": [
    {
     "data": {
      "image/png": "[encoded data removed]",
      "text/plain": [
       "<Figure size 432x288 with 1 Axes>"
      ]
     },
     "metadata": {
      "needs_background": "light"
     },
     "output_type": "display_data"
    }
   ],
   "source": [
    "from sklearn import metrics\n",
    "metrics.plot_roc_curve(svc_def, X_test3, y_test3) \n",
    "plt.title(\"ROC curve\")\n",
    "plt.show()"
   ]
  },
  {
   "cell_type": "markdown",
   "metadata": {
    "id": "n4DTvUHUQ_qf"
   },
   "source": [
    "#### Trying deep learning for binary classification"
   ]
  },
  {
   "cell_type": "code",
   "execution_count": 51,
   "metadata": {
    "id": "gQnkCjcKRlPU"
   },
   "outputs": [],
   "source": [
    "import tensorflow as tf\n",
    "import keras"
   ]
  },
  {
   "cell_type": "code",
   "execution_count": 52,
   "metadata": {
    "colab": {
     "base_uri": "https://localhost:8080/"
    },
    "id": "7XxtzmhNR_Ga",
    "outputId": "29e4646a-c982-41bb-fe08-105fb622fd78"
   },
   "outputs": [
    {
     "name": "stdout",
     "output_type": "stream",
     "text": [
      "X_train_dl shape: (542, 8)\n",
      "y_train_dl shape: (542,)\n",
      "X_test_dl shape: (48, 8)\n",
      "y_test_dl shape: (48,)\n"
     ]
    }
   ],
   "source": [
    "x3_dl=data_3.drop(['diagnosis'], 1)\n",
    "y3_dl=data_3['diagnosis']\n",
    "X_train_dl, X_test_dl, y_train_dl, y_test_dl = train_test_split(x3_dl, y3_dl, random_state=1,test_size=0.08)\n",
    "print(\"X_train_dl shape: {}\".format(X_train_dl.shape))\n",
    "print(\"y_train_dl shape: {}\".format(y_train_dl.shape))\n",
    "print(\"X_test_dl shape: {}\".format(X_test_dl.shape))\n",
    "print(\"y_test_dl shape: {}\".format(y_test_dl.shape))"
   ]
  },
  {
   "cell_type": "markdown",
   "metadata": {
    "id": "fYNPdWUHxC7x"
   },
   "source": [
    "Feature scaling for Deep Learning."
   ]
  },
  {
   "cell_type": "code",
   "execution_count": 53,
   "metadata": {
    "id": "T6W6NKAmxwNW"
   },
   "outputs": [],
   "source": [
    "from sklearn.preprocessing import StandardScaler\n",
    "sc = StandardScaler()\n",
    "X_train_dl = sc.fit_transform(X_train_dl)\n",
    "X_test_dl = sc.transform(X_test_dl)"
   ]
  },
  {
   "cell_type": "markdown",
   "metadata": {
    "id": "SXM4D91fShJ0"
   },
   "source": [
    "###### Initializing the ANN"
   ]
  },
  {
   "cell_type": "code",
   "execution_count": 54,
   "metadata": {
    "id": "TgMW_tYeSiY8"
   },
   "outputs": [],
   "source": [
    "ann = tf.keras.models.Sequential()"
   ]
  },
  {
   "cell_type": "markdown",
   "metadata": {
    "id": "ZeoeH24GS4gW"
   },
   "source": [
    "###### Adding layers to the ANN"
   ]
  },
  {
   "cell_type": "code",
   "execution_count": 55,
   "metadata": {
    "id": "j6RVPrwXSyyp"
   },
   "outputs": [],
   "source": [
    "ann.add(tf.keras.layers.Dense(units=8, input_dim=8, kernel_initializer='uniform', activation='relu'))\n",
    "ann.add(tf.keras.layers.Dense(units=8, kernel_initializer='uniform', activation='relu'))\n",
    "ann.add(tf.keras.layers.Dense(units=1, kernel_initializer='uniform', activation='sigmoid')) # Output layer"
   ]
  },
  {
   "cell_type": "markdown",
   "metadata": {
    "id": "K08ni_MbTFlL"
   },
   "source": [
    "###### Compiling the model"
   ]
  },
  {
   "cell_type": "code",
   "execution_count": 56,
   "metadata": {
    "id": "xnPI7X0YTCiH"
   },
   "outputs": [],
   "source": [
    "ann.compile(optimizer='adam', loss='binary_crossentropy', metrics=['accuracy'])"
   ]
  },
  {
   "cell_type": "markdown",
   "metadata": {
    "id": "zjnyRU9yTPwG"
   },
   "source": [
    "##### Training the ANN on the Training set"
   ]
  },
  {
   "cell_type": "code",
   "execution_count": 57,
   "metadata": {
    "colab": {
     "base_uri": "https://localhost:8080/"
    },
    "id": "yYdt25fa3qD4",
    "outputId": "86f448b5-3c0c-4b36-d8a4-3a60e779f32c"
   },
   "outputs": [
    {
     "name": "stdout",
     "output_type": "stream",
     "text": [
      "Model: \"sequential\"\n",
      "_________________________________________________________________\n",
      " Layer (type)                Output Shape              Param #   \n",
      "=================================================================\n",
      " dense (Dense)               (None, 8)                 72        \n",
      "                                                                 \n",
      " dense_1 (Dense)             (None, 8)                 72        \n",
      "                                                                 \n",
      " dense_2 (Dense)             (None, 1)                 9         \n",
      "                                                                 \n",
      "=================================================================\n",
      "Total params: 153\n",
      "Trainable params: 153\n",
      "Non-trainable params: 0\n",
      "_________________________________________________________________\n",
      "None\n"
     ]
    }
   ],
   "source": [
    "# Our ANN model\n",
    "print(ann.summary())"
   ]
  },
  {
   "cell_type": "code",
   "execution_count": 58,
   "metadata": {
    "colab": {
     "base_uri": "https://localhost:8080/"
    },
    "id": "rv5ZBuskTNYr",
    "outputId": "d8855807-5de5-44a9-aa9e-4d1c9a47b547",
    "scrolled": true
   },
   "outputs": [
    {
     "name": "stdout",
     "output_type": "stream",
     "text": [
      "Epoch 1/500\n",
      "17/17 [==============================] - 1s 2ms/step - loss: 0.6917 - accuracy: 0.6384\n",
      "Epoch 2/500\n",
      "17/17 [==============================] - 0s 2ms/step - loss: 0.6878 - accuracy: 0.6587\n",
      "Epoch 3/500\n",
      "17/17 [==============================] - 0s 2ms/step - loss: 0.6819 - accuracy: 0.6587\n",
      "Epoch 4/500\n",
      "17/17 [==============================] - 0s 2ms/step - loss: 0.6714 - accuracy: 0.6587\n",
      "Epoch 5/500\n",
      "17/17 [==============================] - 0s 2ms/step - loss: 0.6530 - accuracy: 0.6716\n",
      "Epoch 6/500\n",
      "17/17 [==============================] - 0s 2ms/step - loss: 0.6257 - accuracy: 0.7325\n",
      "Epoch 7/500\n",
      "17/17 [==============================] - 0s 2ms/step - loss: 0.5894 - accuracy: 0.7934\n",
      "Epoch 8/500\n",
      "17/17 [==============================] - 0s 2ms/step - loss: 0.5459 - accuracy: 0.8063\n",
      "Epoch 9/500\n",
      "17/17 [==============================] - 0s 2ms/step - loss: 0.5030 - accuracy: 0.8210\n",
      "Epoch 10/500\n",
      "17/17 [==============================] - 0s 2ms/step - loss: 0.4652 - accuracy: 0.8303\n",
      "Epoch 11/500\n",
      "17/17 [==============================] - 0s 2ms/step - loss: 0.4335 - accuracy: 0.8303\n",
      "Epoch 12/500\n",
      "17/17 [==============================] - 0s 2ms/step - loss: 0.4131 - accuracy: 0.8284\n",
      "Epoch 13/500\n",
      "17/17 [==============================] - 0s 978us/step - loss: 0.3974 - accuracy: 0.8284\n",
      "Epoch 14/500\n",
      "17/17 [==============================] - 0s 2ms/step - loss: 0.3882 - accuracy: 0.8303\n",
      "Epoch 15/500\n",
      "17/17 [==============================] - 0s 2ms/step - loss: 0.3818 - accuracy: 0.8339\n",
      "Epoch 16/500\n",
      "17/17 [==============================] - 0s 2ms/step - loss: 0.3779 - accuracy: 0.8321\n",
      "Epoch 17/500\n",
      "17/17 [==============================] - 0s 2ms/step - loss: 0.3744 - accuracy: 0.8358\n",
      "Epoch 18/500\n",
      "17/17 [==============================] - 0s 2ms/step - loss: 0.3723 - accuracy: 0.8376\n",
      "Epoch 19/500\n",
      "17/17 [==============================] - 0s 978us/step - loss: 0.3703 - accuracy: 0.8376\n",
      "Epoch 20/500\n",
      "17/17 [==============================] - 0s 1ms/step - loss: 0.3686 - accuracy: 0.8358\n",
      "Epoch 21/500\n",
      "17/17 [==============================] - 0s 1ms/step - loss: 0.3672 - accuracy: 0.8376\n",
      "Epoch 22/500\n",
      "17/17 [==============================] - 0s 2ms/step - loss: 0.3663 - accuracy: 0.8413\n",
      "Epoch 23/500\n",
      "17/17 [==============================] - 0s 2ms/step - loss: 0.3656 - accuracy: 0.8395\n",
      "Epoch 24/500\n",
      "17/17 [==============================] - 0s 2ms/step - loss: 0.3643 - accuracy: 0.8413\n",
      "Epoch 25/500\n",
      "17/17 [==============================] - 0s 2ms/step - loss: 0.3636 - accuracy: 0.8450\n",
      "Epoch 26/500\n",
      "17/17 [==============================] - 0s 2ms/step - loss: 0.3629 - accuracy: 0.8469\n",
      "Epoch 27/500\n",
      "17/17 [==============================] - 0s 2ms/step - loss: 0.3622 - accuracy: 0.8487\n",
      "Epoch 28/500\n",
      "17/17 [==============================] - 0s 2ms/step - loss: 0.3615 - accuracy: 0.8469\n",
      "Epoch 29/500\n",
      "17/17 [==============================] - 0s 2ms/step - loss: 0.3616 - accuracy: 0.8469\n",
      "Epoch 30/500\n",
      "17/17 [==============================] - 0s 2ms/step - loss: 0.3608 - accuracy: 0.8487\n",
      "Epoch 31/500\n",
      "17/17 [==============================] - 0s 2ms/step - loss: 0.3602 - accuracy: 0.8506\n",
      "Epoch 32/500\n",
      "17/17 [==============================] - 0s 1ms/step - loss: 0.3603 - accuracy: 0.8487\n",
      "Epoch 33/500\n",
      "17/17 [==============================] - 0s 1ms/step - loss: 0.3599 - accuracy: 0.8487\n",
      "Epoch 34/500\n",
      "17/17 [==============================] - 0s 2ms/step - loss: 0.3594 - accuracy: 0.8487\n",
      "Epoch 35/500\n",
      "17/17 [==============================] - 0s 1ms/step - loss: 0.3594 - accuracy: 0.8506\n",
      "Epoch 36/500\n",
      "17/17 [==============================] - 0s 2ms/step - loss: 0.3594 - accuracy: 0.8469\n",
      "Epoch 37/500\n",
      "17/17 [==============================] - 0s 2ms/step - loss: 0.3585 - accuracy: 0.8469\n",
      "Epoch 38/500\n",
      "17/17 [==============================] - 0s 2ms/step - loss: 0.3583 - accuracy: 0.8469\n",
      "Epoch 39/500\n",
      "17/17 [==============================] - 0s 2ms/step - loss: 0.3579 - accuracy: 0.8487\n",
      "Epoch 40/500\n",
      "17/17 [==============================] - 0s 2ms/step - loss: 0.3576 - accuracy: 0.8506\n",
      "Epoch 41/500\n",
      "17/17 [==============================] - 0s 2ms/step - loss: 0.3572 - accuracy: 0.8506\n",
      "Epoch 42/500\n",
      "17/17 [==============================] - 0s 2ms/step - loss: 0.3568 - accuracy: 0.8506\n",
      "Epoch 43/500\n",
      "17/17 [==============================] - 0s 2ms/step - loss: 0.3564 - accuracy: 0.8487\n",
      "Epoch 44/500\n",
      "17/17 [==============================] - 0s 1ms/step - loss: 0.3562 - accuracy: 0.8506\n",
      "Epoch 45/500\n",
      "17/17 [==============================] - 0s 2ms/step - loss: 0.3561 - accuracy: 0.8524\n",
      "Epoch 46/500\n",
      "17/17 [==============================] - 0s 978us/step - loss: 0.3559 - accuracy: 0.8542\n",
      "Epoch 47/500\n",
      "17/17 [==============================] - 0s 2ms/step - loss: 0.3555 - accuracy: 0.8506\n",
      "Epoch 48/500\n",
      "17/17 [==============================] - 0s 2ms/step - loss: 0.3553 - accuracy: 0.8542\n",
      "Epoch 49/500\n",
      "17/17 [==============================] - 0s 2ms/step - loss: 0.3550 - accuracy: 0.8524\n",
      "Epoch 50/500\n",
      "17/17 [==============================] - 0s 2ms/step - loss: 0.3544 - accuracy: 0.8506\n",
      "Epoch 51/500\n",
      "17/17 [==============================] - 0s 2ms/step - loss: 0.3540 - accuracy: 0.8561\n",
      "Epoch 52/500\n",
      "17/17 [==============================] - 0s 2ms/step - loss: 0.3539 - accuracy: 0.8561\n",
      "Epoch 53/500\n",
      "17/17 [==============================] - 0s 1ms/step - loss: 0.3534 - accuracy: 0.8542\n",
      "Epoch 54/500\n",
      "17/17 [==============================] - 0s 2ms/step - loss: 0.3530 - accuracy: 0.8542\n",
      "Epoch 55/500\n",
      "17/17 [==============================] - 0s 2ms/step - loss: 0.3527 - accuracy: 0.8561\n",
      "Epoch 56/500\n",
      "17/17 [==============================] - 0s 2ms/step - loss: 0.3524 - accuracy: 0.8561\n",
      "Epoch 57/500\n",
      "17/17 [==============================] - 0s 2ms/step - loss: 0.3518 - accuracy: 0.8561\n",
      "Epoch 58/500\n",
      "17/17 [==============================] - 0s 2ms/step - loss: 0.3515 - accuracy: 0.8542\n",
      "Epoch 59/500\n",
      "17/17 [==============================] - 0s 3ms/step - loss: 0.3511 - accuracy: 0.8542\n",
      "Epoch 60/500\n",
      "17/17 [==============================] - 0s 2ms/step - loss: 0.3507 - accuracy: 0.8542\n",
      "Epoch 61/500\n",
      "17/17 [==============================] - 0s 2ms/step - loss: 0.3505 - accuracy: 0.8542\n",
      "Epoch 62/500\n",
      "17/17 [==============================] - 0s 2ms/step - loss: 0.3498 - accuracy: 0.8561\n",
      "Epoch 63/500\n",
      "17/17 [==============================] - 0s 2ms/step - loss: 0.3492 - accuracy: 0.8561\n",
      "Epoch 64/500\n",
      "17/17 [==============================] - 0s 2ms/step - loss: 0.3490 - accuracy: 0.8561\n",
      "Epoch 65/500\n",
      "17/17 [==============================] - 0s 2ms/step - loss: 0.3486 - accuracy: 0.8579\n",
      "Epoch 66/500\n",
      "17/17 [==============================] - 0s 1ms/step - loss: 0.3479 - accuracy: 0.8579\n",
      "Epoch 67/500\n",
      "17/17 [==============================] - 0s 1ms/step - loss: 0.3475 - accuracy: 0.8598\n",
      "Epoch 68/500\n",
      "17/17 [==============================] - 0s 976us/step - loss: 0.3470 - accuracy: 0.8598\n",
      "Epoch 69/500\n",
      "17/17 [==============================] - 0s 1ms/step - loss: 0.3468 - accuracy: 0.8598\n",
      "Epoch 70/500\n",
      "17/17 [==============================] - 0s 1ms/step - loss: 0.3461 - accuracy: 0.8598\n",
      "Epoch 71/500\n",
      "17/17 [==============================] - 0s 1ms/step - loss: 0.3456 - accuracy: 0.8579\n",
      "Epoch 72/500\n",
      "17/17 [==============================] - 0s 2ms/step - loss: 0.3455 - accuracy: 0.8579\n",
      "Epoch 73/500\n",
      "17/17 [==============================] - 0s 2ms/step - loss: 0.3446 - accuracy: 0.8598\n",
      "Epoch 74/500\n",
      "17/17 [==============================] - 0s 2ms/step - loss: 0.3446 - accuracy: 0.8579\n",
      "Epoch 75/500\n",
      "17/17 [==============================] - 0s 2ms/step - loss: 0.3437 - accuracy: 0.8598\n",
      "Epoch 76/500\n",
      "17/17 [==============================] - 0s 2ms/step - loss: 0.3431 - accuracy: 0.8579\n",
      "Epoch 77/500\n",
      "17/17 [==============================] - 0s 2ms/step - loss: 0.3431 - accuracy: 0.8579\n",
      "Epoch 78/500\n",
      "17/17 [==============================] - 0s 2ms/step - loss: 0.3423 - accuracy: 0.8579\n",
      "Epoch 79/500\n",
      "17/17 [==============================] - 0s 2ms/step - loss: 0.3420 - accuracy: 0.8579\n",
      "Epoch 80/500\n",
      "17/17 [==============================] - 0s 2ms/step - loss: 0.3415 - accuracy: 0.8579\n",
      "Epoch 81/500\n",
      "17/17 [==============================] - 0s 2ms/step - loss: 0.3408 - accuracy: 0.8561\n",
      "Epoch 82/500\n"
     ]
    },
    {
     "name": "stdout",
     "output_type": "stream",
     "text": [
      "17/17 [==============================] - 0s 2ms/step - loss: 0.3404 - accuracy: 0.8561\n",
      "Epoch 83/500\n",
      "17/17 [==============================] - 0s 2ms/step - loss: 0.3399 - accuracy: 0.8561\n",
      "Epoch 84/500\n",
      "17/17 [==============================] - 0s 2ms/step - loss: 0.3396 - accuracy: 0.8542\n",
      "Epoch 85/500\n",
      "17/17 [==============================] - 0s 3ms/step - loss: 0.3389 - accuracy: 0.8542\n",
      "Epoch 86/500\n",
      "17/17 [==============================] - 0s 2ms/step - loss: 0.3389 - accuracy: 0.8579\n",
      "Epoch 87/500\n",
      "17/17 [==============================] - 0s 2ms/step - loss: 0.3378 - accuracy: 0.8561\n",
      "Epoch 88/500\n",
      "17/17 [==============================] - 0s 2ms/step - loss: 0.3373 - accuracy: 0.8542\n",
      "Epoch 89/500\n",
      "17/17 [==============================] - 0s 2ms/step - loss: 0.3367 - accuracy: 0.8524\n",
      "Epoch 90/500\n",
      "17/17 [==============================] - 0s 2ms/step - loss: 0.3360 - accuracy: 0.8542\n",
      "Epoch 91/500\n",
      "17/17 [==============================] - 0s 2ms/step - loss: 0.3352 - accuracy: 0.8542\n",
      "Epoch 92/500\n",
      "17/17 [==============================] - 0s 2ms/step - loss: 0.3346 - accuracy: 0.8579\n",
      "Epoch 93/500\n",
      "17/17 [==============================] - 0s 1ms/step - loss: 0.3340 - accuracy: 0.8561\n",
      "Epoch 94/500\n",
      "17/17 [==============================] - 0s 976us/step - loss: 0.3334 - accuracy: 0.8542\n",
      "Epoch 95/500\n",
      "17/17 [==============================] - 0s 2ms/step - loss: 0.3326 - accuracy: 0.8561\n",
      "Epoch 96/500\n",
      "17/17 [==============================] - 0s 1ms/step - loss: 0.3320 - accuracy: 0.8561\n",
      "Epoch 97/500\n",
      "17/17 [==============================] - 0s 1ms/step - loss: 0.3311 - accuracy: 0.8561\n",
      "Epoch 98/500\n",
      "17/17 [==============================] - 0s 2ms/step - loss: 0.3307 - accuracy: 0.8561\n",
      "Epoch 99/500\n",
      "17/17 [==============================] - 0s 2ms/step - loss: 0.3300 - accuracy: 0.8542\n",
      "Epoch 100/500\n",
      "17/17 [==============================] - 0s 2ms/step - loss: 0.3289 - accuracy: 0.8561\n",
      "Epoch 101/500\n",
      "17/17 [==============================] - 0s 2ms/step - loss: 0.3280 - accuracy: 0.8561\n",
      "Epoch 102/500\n",
      "17/17 [==============================] - 0s 2ms/step - loss: 0.3275 - accuracy: 0.8561\n",
      "Epoch 103/500\n",
      "17/17 [==============================] - 0s 2ms/step - loss: 0.3266 - accuracy: 0.8524\n",
      "Epoch 104/500\n",
      "17/17 [==============================] - 0s 2ms/step - loss: 0.3256 - accuracy: 0.8542\n",
      "Epoch 105/500\n",
      "17/17 [==============================] - 0s 976us/step - loss: 0.3253 - accuracy: 0.8542\n",
      "Epoch 106/500\n",
      "17/17 [==============================] - 0s 2ms/step - loss: 0.3241 - accuracy: 0.8561\n",
      "Epoch 107/500\n",
      "17/17 [==============================] - 0s 2ms/step - loss: 0.3238 - accuracy: 0.8542\n",
      "Epoch 108/500\n",
      "17/17 [==============================] - 0s 2ms/step - loss: 0.3223 - accuracy: 0.8542\n",
      "Epoch 109/500\n",
      "17/17 [==============================] - 0s 2ms/step - loss: 0.3223 - accuracy: 0.8542\n",
      "Epoch 110/500\n",
      "17/17 [==============================] - 0s 976us/step - loss: 0.3213 - accuracy: 0.8542\n",
      "Epoch 111/500\n",
      "17/17 [==============================] - 0s 2ms/step - loss: 0.3201 - accuracy: 0.8506\n",
      "Epoch 112/500\n",
      "17/17 [==============================] - 0s 2ms/step - loss: 0.3193 - accuracy: 0.8524\n",
      "Epoch 113/500\n",
      "17/17 [==============================] - 0s 2ms/step - loss: 0.3186 - accuracy: 0.8524\n",
      "Epoch 114/500\n",
      "17/17 [==============================] - 0s 2ms/step - loss: 0.3177 - accuracy: 0.8524\n",
      "Epoch 115/500\n",
      "17/17 [==============================] - 0s 2ms/step - loss: 0.3171 - accuracy: 0.8542\n",
      "Epoch 116/500\n",
      "17/17 [==============================] - 0s 2ms/step - loss: 0.3163 - accuracy: 0.8506\n",
      "Epoch 117/500\n",
      "17/17 [==============================] - 0s 2ms/step - loss: 0.3157 - accuracy: 0.8524\n",
      "Epoch 118/500\n",
      "17/17 [==============================] - 0s 2ms/step - loss: 0.3150 - accuracy: 0.8506\n",
      "Epoch 119/500\n",
      "17/17 [==============================] - 0s 3ms/step - loss: 0.3143 - accuracy: 0.8524\n",
      "Epoch 120/500\n",
      "17/17 [==============================] - 0s 2ms/step - loss: 0.3139 - accuracy: 0.8506\n",
      "Epoch 121/500\n",
      "17/17 [==============================] - 0s 1ms/step - loss: 0.3128 - accuracy: 0.8506\n",
      "Epoch 122/500\n",
      "17/17 [==============================] - 0s 978us/step - loss: 0.3125 - accuracy: 0.8506\n",
      "Epoch 123/500\n",
      "17/17 [==============================] - 0s 2ms/step - loss: 0.3120 - accuracy: 0.8524\n",
      "Epoch 124/500\n",
      "17/17 [==============================] - 0s 2ms/step - loss: 0.3112 - accuracy: 0.8524\n",
      "Epoch 125/500\n",
      "17/17 [==============================] - 0s 2ms/step - loss: 0.3104 - accuracy: 0.8542\n",
      "Epoch 126/500\n",
      "17/17 [==============================] - 0s 2ms/step - loss: 0.3099 - accuracy: 0.8579\n",
      "Epoch 127/500\n",
      "17/17 [==============================] - 0s 2ms/step - loss: 0.3091 - accuracy: 0.8561\n",
      "Epoch 128/500\n",
      "17/17 [==============================] - 0s 2ms/step - loss: 0.3087 - accuracy: 0.8561\n",
      "Epoch 129/500\n",
      "17/17 [==============================] - 0s 2ms/step - loss: 0.3079 - accuracy: 0.8598\n",
      "Epoch 130/500\n",
      "17/17 [==============================] - 0s 2ms/step - loss: 0.3073 - accuracy: 0.8579\n",
      "Epoch 131/500\n",
      "17/17 [==============================] - 0s 2ms/step - loss: 0.3069 - accuracy: 0.8542\n",
      "Epoch 132/500\n",
      "17/17 [==============================] - 0s 1ms/step - loss: 0.3064 - accuracy: 0.8579\n",
      "Epoch 133/500\n",
      "17/17 [==============================] - 0s 2ms/step - loss: 0.3060 - accuracy: 0.8579\n",
      "Epoch 134/500\n",
      "17/17 [==============================] - 0s 2ms/step - loss: 0.3051 - accuracy: 0.8616\n",
      "Epoch 135/500\n",
      "17/17 [==============================] - 0s 2ms/step - loss: 0.3048 - accuracy: 0.8598\n",
      "Epoch 136/500\n",
      "17/17 [==============================] - 0s 2ms/step - loss: 0.3042 - accuracy: 0.8579\n",
      "Epoch 137/500\n",
      "17/17 [==============================] - 0s 2ms/step - loss: 0.3038 - accuracy: 0.8598\n",
      "Epoch 138/500\n",
      "17/17 [==============================] - 0s 1ms/step - loss: 0.3041 - accuracy: 0.8598\n",
      "Epoch 139/500\n",
      "17/17 [==============================] - 0s 2ms/step - loss: 0.3025 - accuracy: 0.8616\n",
      "Epoch 140/500\n",
      "17/17 [==============================] - 0s 2ms/step - loss: 0.3021 - accuracy: 0.8616\n",
      "Epoch 141/500\n",
      "17/17 [==============================] - 0s 2ms/step - loss: 0.3016 - accuracy: 0.8616\n",
      "Epoch 142/500\n",
      "17/17 [==============================] - 0s 1ms/step - loss: 0.3013 - accuracy: 0.8598\n",
      "Epoch 143/500\n",
      "17/17 [==============================] - 0s 2ms/step - loss: 0.3009 - accuracy: 0.8598\n",
      "Epoch 144/500\n",
      "17/17 [==============================] - 0s 978us/step - loss: 0.3007 - accuracy: 0.8579\n",
      "Epoch 145/500\n",
      "17/17 [==============================] - 0s 2ms/step - loss: 0.3002 - accuracy: 0.8579\n",
      "Epoch 146/500\n",
      "17/17 [==============================] - 0s 1ms/step - loss: 0.3002 - accuracy: 0.8579\n",
      "Epoch 147/500\n",
      "17/17 [==============================] - 0s 1ms/step - loss: 0.2999 - accuracy: 0.8561\n",
      "Epoch 148/500\n",
      "17/17 [==============================] - 0s 976us/step - loss: 0.2990 - accuracy: 0.8635\n",
      "Epoch 149/500\n",
      "17/17 [==============================] - 0s 2ms/step - loss: 0.2991 - accuracy: 0.8579\n",
      "Epoch 150/500\n",
      "17/17 [==============================] - 0s 2ms/step - loss: 0.2985 - accuracy: 0.8579\n",
      "Epoch 151/500\n",
      "17/17 [==============================] - 0s 2ms/step - loss: 0.2980 - accuracy: 0.8579\n",
      "Epoch 152/500\n",
      "17/17 [==============================] - 0s 2ms/step - loss: 0.2975 - accuracy: 0.8635\n",
      "Epoch 153/500\n",
      "17/17 [==============================] - 0s 2ms/step - loss: 0.2978 - accuracy: 0.8635\n",
      "Epoch 154/500\n",
      "17/17 [==============================] - 0s 2ms/step - loss: 0.2975 - accuracy: 0.8561\n",
      "Epoch 155/500\n",
      "17/17 [==============================] - 0s 2ms/step - loss: 0.2964 - accuracy: 0.8579\n",
      "Epoch 156/500\n",
      "17/17 [==============================] - 0s 2ms/step - loss: 0.2965 - accuracy: 0.8598\n",
      "Epoch 157/500\n",
      "17/17 [==============================] - 0s 2ms/step - loss: 0.2964 - accuracy: 0.8635\n",
      "Epoch 158/500\n",
      "17/17 [==============================] - 0s 2ms/step - loss: 0.2957 - accuracy: 0.8653\n",
      "Epoch 159/500\n",
      "17/17 [==============================] - 0s 3ms/step - loss: 0.2949 - accuracy: 0.8598\n",
      "Epoch 160/500\n",
      "17/17 [==============================] - 0s 1ms/step - loss: 0.2950 - accuracy: 0.8598\n",
      "Epoch 161/500\n",
      "17/17 [==============================] - 0s 2ms/step - loss: 0.2947 - accuracy: 0.8598\n",
      "Epoch 162/500\n",
      "17/17 [==============================] - 0s 978us/step - loss: 0.2943 - accuracy: 0.8635\n",
      "Epoch 163/500\n"
     ]
    },
    {
     "name": "stdout",
     "output_type": "stream",
     "text": [
      "17/17 [==============================] - 0s 2ms/step - loss: 0.2937 - accuracy: 0.8616\n",
      "Epoch 164/500\n",
      "17/17 [==============================] - 0s 2ms/step - loss: 0.2936 - accuracy: 0.8616\n",
      "Epoch 165/500\n",
      "17/17 [==============================] - 0s 2ms/step - loss: 0.2931 - accuracy: 0.8653\n",
      "Epoch 166/500\n",
      "17/17 [==============================] - 0s 2ms/step - loss: 0.2925 - accuracy: 0.8653\n",
      "Epoch 167/500\n",
      "17/17 [==============================] - 0s 2ms/step - loss: 0.2928 - accuracy: 0.8653\n",
      "Epoch 168/500\n",
      "17/17 [==============================] - 0s 2ms/step - loss: 0.2917 - accuracy: 0.8635\n",
      "Epoch 169/500\n",
      "17/17 [==============================] - 0s 2ms/step - loss: 0.2922 - accuracy: 0.8672\n",
      "Epoch 170/500\n",
      "17/17 [==============================] - 0s 2ms/step - loss: 0.2914 - accuracy: 0.8690\n",
      "Epoch 171/500\n",
      "17/17 [==============================] - 0s 2ms/step - loss: 0.2908 - accuracy: 0.8690\n",
      "Epoch 172/500\n",
      "17/17 [==============================] - 0s 2ms/step - loss: 0.2911 - accuracy: 0.8690\n",
      "Epoch 173/500\n",
      "17/17 [==============================] - 0s 2ms/step - loss: 0.2902 - accuracy: 0.8653\n",
      "Epoch 174/500\n",
      "17/17 [==============================] - 0s 2ms/step - loss: 0.2900 - accuracy: 0.8708\n",
      "Epoch 175/500\n",
      "17/17 [==============================] - 0s 2ms/step - loss: 0.2899 - accuracy: 0.8690\n",
      "Epoch 176/500\n",
      "17/17 [==============================] - 0s 2ms/step - loss: 0.2893 - accuracy: 0.8672\n",
      "Epoch 177/500\n",
      "17/17 [==============================] - 0s 2ms/step - loss: 0.2896 - accuracy: 0.8653\n",
      "Epoch 178/500\n",
      "17/17 [==============================] - 0s 2ms/step - loss: 0.2886 - accuracy: 0.8708\n",
      "Epoch 179/500\n",
      "17/17 [==============================] - 0s 2ms/step - loss: 0.2881 - accuracy: 0.8690\n",
      "Epoch 180/500\n",
      "17/17 [==============================] - 0s 978us/step - loss: 0.2882 - accuracy: 0.8708\n",
      "Epoch 181/500\n",
      "17/17 [==============================] - 0s 2ms/step - loss: 0.2881 - accuracy: 0.8708\n",
      "Epoch 182/500\n",
      "17/17 [==============================] - 0s 2ms/step - loss: 0.2875 - accuracy: 0.8745\n",
      "Epoch 183/500\n",
      "17/17 [==============================] - 0s 2ms/step - loss: 0.2875 - accuracy: 0.8708\n",
      "Epoch 184/500\n",
      "17/17 [==============================] - 0s 2ms/step - loss: 0.2871 - accuracy: 0.8745\n",
      "Epoch 185/500\n",
      "17/17 [==============================] - 0s 2ms/step - loss: 0.2872 - accuracy: 0.8727\n",
      "Epoch 186/500\n",
      "17/17 [==============================] - 0s 2ms/step - loss: 0.2869 - accuracy: 0.8745\n",
      "Epoch 187/500\n",
      "17/17 [==============================] - 0s 2ms/step - loss: 0.2862 - accuracy: 0.8745\n",
      "Epoch 188/500\n",
      "17/17 [==============================] - 0s 2ms/step - loss: 0.2863 - accuracy: 0.8708\n",
      "Epoch 189/500\n",
      "17/17 [==============================] - 0s 2ms/step - loss: 0.2858 - accuracy: 0.8764\n",
      "Epoch 190/500\n",
      "17/17 [==============================] - 0s 2ms/step - loss: 0.2856 - accuracy: 0.8764\n",
      "Epoch 191/500\n",
      "17/17 [==============================] - 0s 2ms/step - loss: 0.2854 - accuracy: 0.8727\n",
      "Epoch 192/500\n",
      "17/17 [==============================] - 0s 3ms/step - loss: 0.2855 - accuracy: 0.8764\n",
      "Epoch 193/500\n",
      "17/17 [==============================] - 0s 2ms/step - loss: 0.2847 - accuracy: 0.8764\n",
      "Epoch 194/500\n",
      "17/17 [==============================] - 0s 2ms/step - loss: 0.2847 - accuracy: 0.8727\n",
      "Epoch 195/500\n",
      "17/17 [==============================] - 0s 2ms/step - loss: 0.2843 - accuracy: 0.8745\n",
      "Epoch 196/500\n",
      "17/17 [==============================] - 0s 2ms/step - loss: 0.2844 - accuracy: 0.8745\n",
      "Epoch 197/500\n",
      "17/17 [==============================] - 0s 2ms/step - loss: 0.2841 - accuracy: 0.8745\n",
      "Epoch 198/500\n",
      "17/17 [==============================] - 0s 2ms/step - loss: 0.2838 - accuracy: 0.8727\n",
      "Epoch 199/500\n",
      "17/17 [==============================] - 0s 2ms/step - loss: 0.2845 - accuracy: 0.8745\n",
      "Epoch 200/500\n",
      "17/17 [==============================] - 0s 2ms/step - loss: 0.2835 - accuracy: 0.8745\n",
      "Epoch 201/500\n",
      "17/17 [==============================] - 0s 2ms/step - loss: 0.2839 - accuracy: 0.8727\n",
      "Epoch 202/500\n",
      "17/17 [==============================] - 0s 2ms/step - loss: 0.2831 - accuracy: 0.8745\n",
      "Epoch 203/500\n",
      "17/17 [==============================] - 0s 2ms/step - loss: 0.2828 - accuracy: 0.8745\n",
      "Epoch 204/500\n",
      "17/17 [==============================] - 0s 1ms/step - loss: 0.2825 - accuracy: 0.8764\n",
      "Epoch 205/500\n",
      "17/17 [==============================] - 0s 2ms/step - loss: 0.2827 - accuracy: 0.8764\n",
      "Epoch 206/500\n",
      "17/17 [==============================] - 0s 1ms/step - loss: 0.2824 - accuracy: 0.8745\n",
      "Epoch 207/500\n",
      "17/17 [==============================] - 0s 2ms/step - loss: 0.2822 - accuracy: 0.8764\n",
      "Epoch 208/500\n",
      "17/17 [==============================] - 0s 2ms/step - loss: 0.2826 - accuracy: 0.8745\n",
      "Epoch 209/500\n",
      "17/17 [==============================] - 0s 1ms/step - loss: 0.2818 - accuracy: 0.8764\n",
      "Epoch 210/500\n",
      "17/17 [==============================] - 0s 2ms/step - loss: 0.2821 - accuracy: 0.8764\n",
      "Epoch 211/500\n",
      "17/17 [==============================] - 0s 976us/step - loss: 0.2818 - accuracy: 0.8745\n",
      "Epoch 212/500\n",
      "17/17 [==============================] - 0s 2ms/step - loss: 0.2818 - accuracy: 0.8764\n",
      "Epoch 213/500\n",
      "17/17 [==============================] - 0s 2ms/step - loss: 0.2811 - accuracy: 0.8782\n",
      "Epoch 214/500\n",
      "17/17 [==============================] - 0s 3ms/step - loss: 0.2812 - accuracy: 0.8782\n",
      "Epoch 215/500\n",
      "17/17 [==============================] - 0s 2ms/step - loss: 0.2806 - accuracy: 0.8745\n",
      "Epoch 216/500\n",
      "17/17 [==============================] - 0s 2ms/step - loss: 0.2807 - accuracy: 0.8727\n",
      "Epoch 217/500\n",
      "17/17 [==============================] - 0s 2ms/step - loss: 0.2808 - accuracy: 0.8745\n",
      "Epoch 218/500\n",
      "17/17 [==============================] - 0s 2ms/step - loss: 0.2801 - accuracy: 0.8727\n",
      "Epoch 219/500\n",
      "17/17 [==============================] - 0s 2ms/step - loss: 0.2800 - accuracy: 0.8764\n",
      "Epoch 220/500\n",
      "17/17 [==============================] - 0s 2ms/step - loss: 0.2803 - accuracy: 0.8764\n",
      "Epoch 221/500\n",
      "17/17 [==============================] - 0s 2ms/step - loss: 0.2796 - accuracy: 0.8764\n",
      "Epoch 222/500\n",
      "17/17 [==============================] - 0s 2ms/step - loss: 0.2794 - accuracy: 0.8745\n",
      "Epoch 223/500\n",
      "17/17 [==============================] - 0s 2ms/step - loss: 0.2795 - accuracy: 0.8708\n",
      "Epoch 224/500\n",
      "17/17 [==============================] - 0s 3ms/step - loss: 0.2792 - accuracy: 0.8708\n",
      "Epoch 225/500\n",
      "17/17 [==============================] - 0s 2ms/step - loss: 0.2790 - accuracy: 0.8745\n",
      "Epoch 226/500\n",
      "17/17 [==============================] - 0s 2ms/step - loss: 0.2787 - accuracy: 0.8782\n",
      "Epoch 227/500\n",
      "17/17 [==============================] - 0s 2ms/step - loss: 0.2794 - accuracy: 0.8727\n",
      "Epoch 228/500\n",
      "17/17 [==============================] - 0s 1ms/step - loss: 0.2787 - accuracy: 0.8690\n",
      "Epoch 229/500\n",
      "17/17 [==============================] - 0s 2ms/step - loss: 0.2784 - accuracy: 0.8745\n",
      "Epoch 230/500\n",
      "17/17 [==============================] - 0s 2ms/step - loss: 0.2783 - accuracy: 0.8727\n",
      "Epoch 231/500\n",
      "17/17 [==============================] - 0s 2ms/step - loss: 0.2781 - accuracy: 0.8727\n",
      "Epoch 232/500\n",
      "17/17 [==============================] - 0s 2ms/step - loss: 0.2776 - accuracy: 0.8727\n",
      "Epoch 233/500\n",
      "17/17 [==============================] - 0s 2ms/step - loss: 0.2778 - accuracy: 0.8745\n",
      "Epoch 234/500\n",
      "17/17 [==============================] - 0s 2ms/step - loss: 0.2779 - accuracy: 0.8745\n",
      "Epoch 235/500\n",
      "17/17 [==============================] - 0s 976us/step - loss: 0.2771 - accuracy: 0.8764\n",
      "Epoch 236/500\n",
      "17/17 [==============================] - 0s 2ms/step - loss: 0.2772 - accuracy: 0.8745\n",
      "Epoch 237/500\n",
      "17/17 [==============================] - 0s 2ms/step - loss: 0.2772 - accuracy: 0.8745\n",
      "Epoch 238/500\n",
      "17/17 [==============================] - 0s 2ms/step - loss: 0.2770 - accuracy: 0.8708\n",
      "Epoch 239/500\n",
      "17/17 [==============================] - 0s 2ms/step - loss: 0.2772 - accuracy: 0.8727\n",
      "Epoch 240/500\n",
      "17/17 [==============================] - 0s 975us/step - loss: 0.2763 - accuracy: 0.8727\n",
      "Epoch 241/500\n",
      "17/17 [==============================] - 0s 2ms/step - loss: 0.2763 - accuracy: 0.8745\n",
      "Epoch 242/500\n",
      "17/17 [==============================] - 0s 2ms/step - loss: 0.2771 - accuracy: 0.8690\n",
      "Epoch 243/500\n",
      "17/17 [==============================] - 0s 2ms/step - loss: 0.2759 - accuracy: 0.8727\n",
      "Epoch 244/500\n"
     ]
    },
    {
     "name": "stdout",
     "output_type": "stream",
     "text": [
      "17/17 [==============================] - 0s 3ms/step - loss: 0.2757 - accuracy: 0.8745\n",
      "Epoch 245/500\n",
      "17/17 [==============================] - 0s 2ms/step - loss: 0.2756 - accuracy: 0.8727\n",
      "Epoch 246/500\n",
      "17/17 [==============================] - 0s 2ms/step - loss: 0.2758 - accuracy: 0.8745\n",
      "Epoch 247/500\n",
      "17/17 [==============================] - 0s 2ms/step - loss: 0.2758 - accuracy: 0.8727\n",
      "Epoch 248/500\n",
      "17/17 [==============================] - 0s 2ms/step - loss: 0.2752 - accuracy: 0.8727\n",
      "Epoch 249/500\n",
      "17/17 [==============================] - 0s 2ms/step - loss: 0.2754 - accuracy: 0.8745\n",
      "Epoch 250/500\n",
      "17/17 [==============================] - 0s 2ms/step - loss: 0.2750 - accuracy: 0.8727\n",
      "Epoch 251/500\n",
      "17/17 [==============================] - 0s 1ms/step - loss: 0.2762 - accuracy: 0.8727\n",
      "Epoch 252/500\n",
      "17/17 [==============================] - 0s 2ms/step - loss: 0.2746 - accuracy: 0.8727\n",
      "Epoch 253/500\n",
      "17/17 [==============================] - 0s 2ms/step - loss: 0.2746 - accuracy: 0.8745\n",
      "Epoch 254/500\n",
      "17/17 [==============================] - 0s 2ms/step - loss: 0.2744 - accuracy: 0.8764\n",
      "Epoch 255/500\n",
      "17/17 [==============================] - 0s 2ms/step - loss: 0.2742 - accuracy: 0.8745\n",
      "Epoch 256/500\n",
      "17/17 [==============================] - 0s 2ms/step - loss: 0.2739 - accuracy: 0.8745\n",
      "Epoch 257/500\n",
      "17/17 [==============================] - 0s 2ms/step - loss: 0.2735 - accuracy: 0.8745\n",
      "Epoch 258/500\n",
      "17/17 [==============================] - 0s 3ms/step - loss: 0.2736 - accuracy: 0.8745\n",
      "Epoch 259/500\n",
      "17/17 [==============================] - 0s 2ms/step - loss: 0.2737 - accuracy: 0.8727\n",
      "Epoch 260/500\n",
      "17/17 [==============================] - 0s 2ms/step - loss: 0.2730 - accuracy: 0.8727\n",
      "Epoch 261/500\n",
      "17/17 [==============================] - 0s 2ms/step - loss: 0.2737 - accuracy: 0.8745\n",
      "Epoch 262/500\n",
      "17/17 [==============================] - 0s 2ms/step - loss: 0.2728 - accuracy: 0.8782\n",
      "Epoch 263/500\n",
      "17/17 [==============================] - 0s 2ms/step - loss: 0.2729 - accuracy: 0.8782\n",
      "Epoch 264/500\n",
      "17/17 [==============================] - 0s 2ms/step - loss: 0.2726 - accuracy: 0.8838\n",
      "Epoch 265/500\n",
      "17/17 [==============================] - 0s 2ms/step - loss: 0.2724 - accuracy: 0.8782\n",
      "Epoch 266/500\n",
      "17/17 [==============================] - 0s 2ms/step - loss: 0.2722 - accuracy: 0.8819\n",
      "Epoch 267/500\n",
      "17/17 [==============================] - 0s 2ms/step - loss: 0.2721 - accuracy: 0.8801\n",
      "Epoch 268/500\n",
      "17/17 [==============================] - 0s 2ms/step - loss: 0.2717 - accuracy: 0.8801\n",
      "Epoch 269/500\n",
      "17/17 [==============================] - 0s 2ms/step - loss: 0.2718 - accuracy: 0.8819\n",
      "Epoch 270/500\n",
      "17/17 [==============================] - 0s 2ms/step - loss: 0.2711 - accuracy: 0.8819\n",
      "Epoch 271/500\n",
      "17/17 [==============================] - 0s 2ms/step - loss: 0.2716 - accuracy: 0.8838\n",
      "Epoch 272/500\n",
      "17/17 [==============================] - 0s 2ms/step - loss: 0.2712 - accuracy: 0.8801\n",
      "Epoch 273/500\n",
      "17/17 [==============================] - 0s 2ms/step - loss: 0.2713 - accuracy: 0.8819\n",
      "Epoch 274/500\n",
      "17/17 [==============================] - 0s 2ms/step - loss: 0.2707 - accuracy: 0.8838\n",
      "Epoch 275/500\n",
      "17/17 [==============================] - 0s 2ms/step - loss: 0.2706 - accuracy: 0.8838\n",
      "Epoch 276/500\n",
      "17/17 [==============================] - 0s 2ms/step - loss: 0.2704 - accuracy: 0.8856\n",
      "Epoch 277/500\n",
      "17/17 [==============================] - 0s 2ms/step - loss: 0.2703 - accuracy: 0.8819\n",
      "Epoch 278/500\n",
      "17/17 [==============================] - 0s 2ms/step - loss: 0.2699 - accuracy: 0.8856\n",
      "Epoch 279/500\n",
      "17/17 [==============================] - 0s 2ms/step - loss: 0.2706 - accuracy: 0.8819\n",
      "Epoch 280/500\n",
      "17/17 [==============================] - 0s 2ms/step - loss: 0.2694 - accuracy: 0.8838\n",
      "Epoch 281/500\n",
      "17/17 [==============================] - 0s 2ms/step - loss: 0.2696 - accuracy: 0.8838\n",
      "Epoch 282/500\n",
      "17/17 [==============================] - 0s 2ms/step - loss: 0.2698 - accuracy: 0.8819\n",
      "Epoch 283/500\n",
      "17/17 [==============================] - 0s 2ms/step - loss: 0.2696 - accuracy: 0.8856\n",
      "Epoch 284/500\n",
      "17/17 [==============================] - 0s 2ms/step - loss: 0.2690 - accuracy: 0.8875\n",
      "Epoch 285/500\n",
      "17/17 [==============================] - 0s 2ms/step - loss: 0.2685 - accuracy: 0.8875\n",
      "Epoch 286/500\n",
      "17/17 [==============================] - 0s 2ms/step - loss: 0.2688 - accuracy: 0.8856\n",
      "Epoch 287/500\n",
      "17/17 [==============================] - 0s 2ms/step - loss: 0.2683 - accuracy: 0.8838\n",
      "Epoch 288/500\n",
      "17/17 [==============================] - 0s 2ms/step - loss: 0.2684 - accuracy: 0.8838\n",
      "Epoch 289/500\n",
      "17/17 [==============================] - 0s 2ms/step - loss: 0.2681 - accuracy: 0.8838\n",
      "Epoch 290/500\n",
      "17/17 [==============================] - 0s 2ms/step - loss: 0.2678 - accuracy: 0.8838\n",
      "Epoch 291/500\n",
      "17/17 [==============================] - 0s 2ms/step - loss: 0.2681 - accuracy: 0.8819\n",
      "Epoch 292/500\n",
      "17/17 [==============================] - 0s 2ms/step - loss: 0.2680 - accuracy: 0.8856\n",
      "Epoch 293/500\n",
      "17/17 [==============================] - 0s 2ms/step - loss: 0.2673 - accuracy: 0.8801\n",
      "Epoch 294/500\n",
      "17/17 [==============================] - 0s 2ms/step - loss: 0.2667 - accuracy: 0.8838\n",
      "Epoch 295/500\n",
      "17/17 [==============================] - 0s 997us/step - loss: 0.2669 - accuracy: 0.8856\n",
      "Epoch 296/500\n",
      "17/17 [==============================] - 0s 1ms/step - loss: 0.2665 - accuracy: 0.8819\n",
      "Epoch 297/500\n",
      "17/17 [==============================] - 0s 3ms/step - loss: 0.2666 - accuracy: 0.8875\n",
      "Epoch 298/500\n",
      "17/17 [==============================] - 0s 1ms/step - loss: 0.2666 - accuracy: 0.8838\n",
      "Epoch 299/500\n",
      "17/17 [==============================] - 0s 2ms/step - loss: 0.2664 - accuracy: 0.8819\n",
      "Epoch 300/500\n",
      "17/17 [==============================] - 0s 2ms/step - loss: 0.2660 - accuracy: 0.8856\n",
      "Epoch 301/500\n",
      "17/17 [==============================] - 0s 2ms/step - loss: 0.2659 - accuracy: 0.8856\n",
      "Epoch 302/500\n",
      "17/17 [==============================] - 0s 976us/step - loss: 0.2656 - accuracy: 0.8856\n",
      "Epoch 303/500\n",
      "17/17 [==============================] - 0s 2ms/step - loss: 0.2655 - accuracy: 0.8838\n",
      "Epoch 304/500\n",
      "17/17 [==============================] - 0s 2ms/step - loss: 0.2653 - accuracy: 0.8875\n",
      "Epoch 305/500\n",
      "17/17 [==============================] - 0s 2ms/step - loss: 0.2647 - accuracy: 0.8911\n",
      "Epoch 306/500\n",
      "17/17 [==============================] - 0s 2ms/step - loss: 0.2650 - accuracy: 0.8838\n",
      "Epoch 307/500\n",
      "17/17 [==============================] - 0s 2ms/step - loss: 0.2650 - accuracy: 0.8875\n",
      "Epoch 308/500\n",
      "17/17 [==============================] - 0s 2ms/step - loss: 0.2650 - accuracy: 0.8838\n",
      "Epoch 309/500\n",
      "17/17 [==============================] - 0s 2ms/step - loss: 0.2649 - accuracy: 0.8856\n",
      "Epoch 310/500\n",
      "17/17 [==============================] - 0s 2ms/step - loss: 0.2645 - accuracy: 0.8875\n",
      "Epoch 311/500\n",
      "17/17 [==============================] - 0s 2ms/step - loss: 0.2641 - accuracy: 0.8856\n",
      "Epoch 312/500\n",
      "17/17 [==============================] - 0s 2ms/step - loss: 0.2637 - accuracy: 0.8838\n",
      "Epoch 313/500\n",
      "17/17 [==============================] - 0s 2ms/step - loss: 0.2637 - accuracy: 0.8838\n",
      "Epoch 314/500\n",
      "17/17 [==============================] - 0s 2ms/step - loss: 0.2630 - accuracy: 0.8856\n",
      "Epoch 315/500\n",
      "17/17 [==============================] - 0s 2ms/step - loss: 0.2633 - accuracy: 0.8856\n",
      "Epoch 316/500\n",
      "17/17 [==============================] - 0s 2ms/step - loss: 0.2629 - accuracy: 0.8856\n",
      "Epoch 317/500\n",
      "17/17 [==============================] - 0s 2ms/step - loss: 0.2624 - accuracy: 0.8838\n",
      "Epoch 318/500\n",
      "17/17 [==============================] - 0s 2ms/step - loss: 0.2622 - accuracy: 0.8856\n",
      "Epoch 319/500\n",
      "17/17 [==============================] - 0s 2ms/step - loss: 0.2619 - accuracy: 0.8856\n",
      "Epoch 320/500\n",
      "17/17 [==============================] - 0s 2ms/step - loss: 0.2617 - accuracy: 0.8856\n",
      "Epoch 321/500\n",
      "17/17 [==============================] - 0s 2ms/step - loss: 0.2617 - accuracy: 0.8875\n",
      "Epoch 322/500\n",
      "17/17 [==============================] - 0s 974us/step - loss: 0.2613 - accuracy: 0.8819\n",
      "Epoch 323/500\n",
      "17/17 [==============================] - 0s 2ms/step - loss: 0.2611 - accuracy: 0.8838\n",
      "Epoch 324/500\n",
      "17/17 [==============================] - 0s 2ms/step - loss: 0.2608 - accuracy: 0.8875\n",
      "Epoch 325/500\n"
     ]
    },
    {
     "name": "stdout",
     "output_type": "stream",
     "text": [
      "17/17 [==============================] - 0s 2ms/step - loss: 0.2612 - accuracy: 0.8801\n",
      "Epoch 326/500\n",
      "17/17 [==============================] - 0s 978us/step - loss: 0.2615 - accuracy: 0.8838\n",
      "Epoch 327/500\n",
      "17/17 [==============================] - 0s 2ms/step - loss: 0.2602 - accuracy: 0.8893\n",
      "Epoch 328/500\n",
      "17/17 [==============================] - 0s 2ms/step - loss: 0.2596 - accuracy: 0.8856\n",
      "Epoch 329/500\n",
      "17/17 [==============================] - 0s 2ms/step - loss: 0.2601 - accuracy: 0.8875\n",
      "Epoch 330/500\n",
      "17/17 [==============================] - 0s 2ms/step - loss: 0.2597 - accuracy: 0.8856\n",
      "Epoch 331/500\n",
      "17/17 [==============================] - 0s 2ms/step - loss: 0.2598 - accuracy: 0.8801\n",
      "Epoch 332/500\n",
      "17/17 [==============================] - 0s 2ms/step - loss: 0.2599 - accuracy: 0.8948\n",
      "Epoch 333/500\n",
      "17/17 [==============================] - 0s 978us/step - loss: 0.2587 - accuracy: 0.8948\n",
      "Epoch 334/500\n",
      "17/17 [==============================] - 0s 2ms/step - loss: 0.2587 - accuracy: 0.8856\n",
      "Epoch 335/500\n",
      "17/17 [==============================] - 0s 2ms/step - loss: 0.2588 - accuracy: 0.8930\n",
      "Epoch 336/500\n",
      "17/17 [==============================] - 0s 2ms/step - loss: 0.2580 - accuracy: 0.8967\n",
      "Epoch 337/500\n",
      "17/17 [==============================] - 0s 2ms/step - loss: 0.2580 - accuracy: 0.8893\n",
      "Epoch 338/500\n",
      "17/17 [==============================] - 0s 2ms/step - loss: 0.2582 - accuracy: 0.8856\n",
      "Epoch 339/500\n",
      "17/17 [==============================] - 0s 978us/step - loss: 0.2582 - accuracy: 0.8930\n",
      "Epoch 340/500\n",
      "17/17 [==============================] - 0s 1ms/step - loss: 0.2574 - accuracy: 0.8893\n",
      "Epoch 341/500\n",
      "17/17 [==============================] - 0s 976us/step - loss: 0.2575 - accuracy: 0.8930\n",
      "Epoch 342/500\n",
      "17/17 [==============================] - 0s 1ms/step - loss: 0.2577 - accuracy: 0.9004\n",
      "Epoch 343/500\n",
      "17/17 [==============================] - 0s 1ms/step - loss: 0.2567 - accuracy: 0.8930\n",
      "Epoch 344/500\n",
      "17/17 [==============================] - 0s 2ms/step - loss: 0.2577 - accuracy: 0.8819\n",
      "Epoch 345/500\n",
      "17/17 [==============================] - 0s 2ms/step - loss: 0.2569 - accuracy: 0.8875\n",
      "Epoch 346/500\n",
      "17/17 [==============================] - 0s 2ms/step - loss: 0.2579 - accuracy: 0.8930\n",
      "Epoch 347/500\n",
      "17/17 [==============================] - 0s 2ms/step - loss: 0.2573 - accuracy: 0.8967\n",
      "Epoch 348/500\n",
      "17/17 [==============================] - 0s 2ms/step - loss: 0.2563 - accuracy: 0.8893\n",
      "Epoch 349/500\n",
      "17/17 [==============================] - 0s 978us/step - loss: 0.2561 - accuracy: 0.8930\n",
      "Epoch 350/500\n",
      "17/17 [==============================] - 0s 2ms/step - loss: 0.2561 - accuracy: 0.8930\n",
      "Epoch 351/500\n",
      "17/17 [==============================] - 0s 2ms/step - loss: 0.2558 - accuracy: 0.8893\n",
      "Epoch 352/500\n",
      "17/17 [==============================] - 0s 2ms/step - loss: 0.2554 - accuracy: 0.8911\n",
      "Epoch 353/500\n",
      "17/17 [==============================] - 0s 2ms/step - loss: 0.2554 - accuracy: 0.8875\n",
      "Epoch 354/500\n",
      "17/17 [==============================] - 0s 3ms/step - loss: 0.2553 - accuracy: 0.8875\n",
      "Epoch 355/500\n",
      "17/17 [==============================] - 0s 1ms/step - loss: 0.2551 - accuracy: 0.8948\n",
      "Epoch 356/500\n",
      "17/17 [==============================] - 0s 2ms/step - loss: 0.2552 - accuracy: 0.8948\n",
      "Epoch 357/500\n",
      "17/17 [==============================] - 0s 2ms/step - loss: 0.2548 - accuracy: 0.8856\n",
      "Epoch 358/500\n",
      "17/17 [==============================] - 0s 2ms/step - loss: 0.2548 - accuracy: 0.8875\n",
      "Epoch 359/500\n",
      "17/17 [==============================] - 0s 1ms/step - loss: 0.2544 - accuracy: 0.8893\n",
      "Epoch 360/500\n",
      "17/17 [==============================] - 0s 2ms/step - loss: 0.2542 - accuracy: 0.8930\n",
      "Epoch 361/500\n",
      "17/17 [==============================] - 0s 2ms/step - loss: 0.2547 - accuracy: 0.8856\n",
      "Epoch 362/500\n",
      "17/17 [==============================] - 0s 1ms/step - loss: 0.2543 - accuracy: 0.8893\n",
      "Epoch 363/500\n",
      "17/17 [==============================] - 0s 2ms/step - loss: 0.2541 - accuracy: 0.8948\n",
      "Epoch 364/500\n",
      "17/17 [==============================] - 0s 2ms/step - loss: 0.2537 - accuracy: 0.8948\n",
      "Epoch 365/500\n",
      "17/17 [==============================] - 0s 2ms/step - loss: 0.2536 - accuracy: 0.8948\n",
      "Epoch 366/500\n",
      "17/17 [==============================] - 0s 976us/step - loss: 0.2540 - accuracy: 0.8930\n",
      "Epoch 367/500\n",
      "17/17 [==============================] - 0s 2ms/step - loss: 0.2544 - accuracy: 0.8875\n",
      "Epoch 368/500\n",
      "17/17 [==============================] - 0s 2ms/step - loss: 0.2533 - accuracy: 0.8911\n",
      "Epoch 369/500\n",
      "17/17 [==============================] - 0s 3ms/step - loss: 0.2531 - accuracy: 0.8967\n",
      "Epoch 370/500\n",
      "17/17 [==============================] - 0s 2ms/step - loss: 0.2529 - accuracy: 0.8967\n",
      "Epoch 371/500\n",
      "17/17 [==============================] - 0s 2ms/step - loss: 0.2520 - accuracy: 0.8967\n",
      "Epoch 372/500\n",
      "17/17 [==============================] - 0s 2ms/step - loss: 0.2524 - accuracy: 0.8948\n",
      "Epoch 373/500\n",
      "17/17 [==============================] - 0s 2ms/step - loss: 0.2536 - accuracy: 0.8875\n",
      "Epoch 374/500\n",
      "17/17 [==============================] - 0s 2ms/step - loss: 0.2525 - accuracy: 0.8930\n",
      "Epoch 375/500\n",
      "17/17 [==============================] - 0s 2ms/step - loss: 0.2520 - accuracy: 0.8948\n",
      "Epoch 376/500\n",
      "17/17 [==============================] - 0s 2ms/step - loss: 0.2519 - accuracy: 0.8930\n",
      "Epoch 377/500\n",
      "17/17 [==============================] - 0s 2ms/step - loss: 0.2528 - accuracy: 0.8930\n",
      "Epoch 378/500\n",
      "17/17 [==============================] - 0s 2ms/step - loss: 0.2518 - accuracy: 0.8930\n",
      "Epoch 379/500\n",
      "17/17 [==============================] - 0s 2ms/step - loss: 0.2517 - accuracy: 0.8930\n",
      "Epoch 380/500\n",
      "17/17 [==============================] - 0s 2ms/step - loss: 0.2515 - accuracy: 0.8967\n",
      "Epoch 381/500\n",
      "17/17 [==============================] - 0s 2ms/step - loss: 0.2512 - accuracy: 0.8948\n",
      "Epoch 382/500\n",
      "17/17 [==============================] - 0s 2ms/step - loss: 0.2512 - accuracy: 0.8948\n",
      "Epoch 383/500\n",
      "17/17 [==============================] - 0s 2ms/step - loss: 0.2515 - accuracy: 0.8948\n",
      "Epoch 384/500\n",
      "17/17 [==============================] - 0s 2ms/step - loss: 0.2508 - accuracy: 0.8967\n",
      "Epoch 385/500\n",
      "17/17 [==============================] - 0s 1ms/step - loss: 0.2503 - accuracy: 0.8948\n",
      "Epoch 386/500\n",
      "17/17 [==============================] - 0s 2ms/step - loss: 0.2507 - accuracy: 0.8948\n",
      "Epoch 387/500\n",
      "17/17 [==============================] - 0s 2ms/step - loss: 0.2508 - accuracy: 0.8930\n",
      "Epoch 388/500\n",
      "17/17 [==============================] - 0s 2ms/step - loss: 0.2503 - accuracy: 0.8911\n",
      "Epoch 389/500\n",
      "17/17 [==============================] - 0s 2ms/step - loss: 0.2502 - accuracy: 0.8911\n",
      "Epoch 390/500\n",
      "17/17 [==============================] - 0s 2ms/step - loss: 0.2502 - accuracy: 0.8985\n",
      "Epoch 391/500\n",
      "17/17 [==============================] - 0s 1ms/step - loss: 0.2501 - accuracy: 0.8948\n",
      "Epoch 392/500\n",
      "17/17 [==============================] - 0s 2ms/step - loss: 0.2495 - accuracy: 0.8948\n",
      "Epoch 393/500\n",
      "17/17 [==============================] - 0s 2ms/step - loss: 0.2495 - accuracy: 0.8948\n",
      "Epoch 394/500\n",
      "17/17 [==============================] - 0s 2ms/step - loss: 0.2493 - accuracy: 0.8930\n",
      "Epoch 395/500\n",
      "17/17 [==============================] - 0s 2ms/step - loss: 0.2489 - accuracy: 0.8948\n",
      "Epoch 396/500\n",
      "17/17 [==============================] - 0s 2ms/step - loss: 0.2488 - accuracy: 0.8967\n",
      "Epoch 397/500\n",
      "17/17 [==============================] - 0s 2ms/step - loss: 0.2490 - accuracy: 0.8911\n",
      "Epoch 398/500\n",
      "17/17 [==============================] - 0s 2ms/step - loss: 0.2483 - accuracy: 0.8948\n",
      "Epoch 399/500\n",
      "17/17 [==============================] - 0s 2ms/step - loss: 0.2482 - accuracy: 0.8967\n",
      "Epoch 400/500\n",
      "17/17 [==============================] - 0s 2ms/step - loss: 0.2481 - accuracy: 0.8948\n",
      "Epoch 401/500\n",
      "17/17 [==============================] - 0s 2ms/step - loss: 0.2480 - accuracy: 0.8967\n",
      "Epoch 402/500\n",
      "17/17 [==============================] - 0s 2ms/step - loss: 0.2487 - accuracy: 0.8930\n",
      "Epoch 403/500\n",
      "17/17 [==============================] - 0s 1ms/step - loss: 0.2478 - accuracy: 0.8948\n",
      "Epoch 404/500\n",
      "17/17 [==============================] - 0s 2ms/step - loss: 0.2481 - accuracy: 0.8948\n",
      "Epoch 405/500\n",
      "17/17 [==============================] - 0s 2ms/step - loss: 0.2472 - accuracy: 0.8930\n",
      "Epoch 406/500\n"
     ]
    },
    {
     "name": "stdout",
     "output_type": "stream",
     "text": [
      "17/17 [==============================] - 0s 3ms/step - loss: 0.2468 - accuracy: 0.8967\n",
      "Epoch 407/500\n",
      "17/17 [==============================] - 0s 2ms/step - loss: 0.2474 - accuracy: 0.8948\n",
      "Epoch 408/500\n",
      "17/17 [==============================] - 0s 1ms/step - loss: 0.2467 - accuracy: 0.8985\n",
      "Epoch 409/500\n",
      "17/17 [==============================] - 0s 2ms/step - loss: 0.2465 - accuracy: 0.8967\n",
      "Epoch 410/500\n",
      "17/17 [==============================] - 0s 2ms/step - loss: 0.2464 - accuracy: 0.8948\n",
      "Epoch 411/500\n",
      "17/17 [==============================] - 0s 974us/step - loss: 0.2465 - accuracy: 0.8948\n",
      "Epoch 412/500\n",
      "17/17 [==============================] - 0s 2ms/step - loss: 0.2461 - accuracy: 0.8967\n",
      "Epoch 413/500\n",
      "17/17 [==============================] - 0s 3ms/step - loss: 0.2460 - accuracy: 0.8930\n",
      "Epoch 414/500\n",
      "17/17 [==============================] - 0s 2ms/step - loss: 0.2456 - accuracy: 0.8948\n",
      "Epoch 415/500\n",
      "17/17 [==============================] - 0s 2ms/step - loss: 0.2455 - accuracy: 0.8967\n",
      "Epoch 416/500\n",
      "17/17 [==============================] - 0s 2ms/step - loss: 0.2450 - accuracy: 0.8967\n",
      "Epoch 417/500\n",
      "17/17 [==============================] - 0s 2ms/step - loss: 0.2451 - accuracy: 0.8967\n",
      "Epoch 418/500\n",
      "17/17 [==============================] - 0s 2ms/step - loss: 0.2449 - accuracy: 0.8985\n",
      "Epoch 419/500\n",
      "17/17 [==============================] - 0s 2ms/step - loss: 0.2449 - accuracy: 0.8967\n",
      "Epoch 420/500\n",
      "17/17 [==============================] - 0s 977us/step - loss: 0.2448 - accuracy: 0.8948\n",
      "Epoch 421/500\n",
      "17/17 [==============================] - 0s 2ms/step - loss: 0.2448 - accuracy: 0.8948\n",
      "Epoch 422/500\n",
      "17/17 [==============================] - 0s 2ms/step - loss: 0.2441 - accuracy: 0.8967\n",
      "Epoch 423/500\n",
      "17/17 [==============================] - 0s 2ms/step - loss: 0.2441 - accuracy: 0.8967\n",
      "Epoch 424/500\n",
      "17/17 [==============================] - 0s 2ms/step - loss: 0.2466 - accuracy: 0.8967\n",
      "Epoch 425/500\n",
      "17/17 [==============================] - 0s 2ms/step - loss: 0.2441 - accuracy: 0.8967\n",
      "Epoch 426/500\n",
      "17/17 [==============================] - 0s 2ms/step - loss: 0.2443 - accuracy: 0.9004\n",
      "Epoch 427/500\n",
      "17/17 [==============================] - 0s 976us/step - loss: 0.2444 - accuracy: 0.9022\n",
      "Epoch 428/500\n",
      "17/17 [==============================] - 0s 2ms/step - loss: 0.2450 - accuracy: 0.8967\n",
      "Epoch 429/500\n",
      "17/17 [==============================] - 0s 2ms/step - loss: 0.2431 - accuracy: 0.8985\n",
      "Epoch 430/500\n",
      "17/17 [==============================] - 0s 978us/step - loss: 0.2429 - accuracy: 0.9022\n",
      "Epoch 431/500\n",
      "17/17 [==============================] - 0s 2ms/step - loss: 0.2426 - accuracy: 0.9004\n",
      "Epoch 432/500\n",
      "17/17 [==============================] - 0s 2ms/step - loss: 0.2427 - accuracy: 0.8985\n",
      "Epoch 433/500\n",
      "17/17 [==============================] - 0s 1ms/step - loss: 0.2424 - accuracy: 0.9004\n",
      "Epoch 434/500\n",
      "17/17 [==============================] - 0s 2ms/step - loss: 0.2421 - accuracy: 0.8985\n",
      "Epoch 435/500\n",
      "17/17 [==============================] - 0s 2ms/step - loss: 0.2424 - accuracy: 0.9004\n",
      "Epoch 436/500\n",
      "17/17 [==============================] - 0s 2ms/step - loss: 0.2431 - accuracy: 0.8985\n",
      "Epoch 437/500\n",
      "17/17 [==============================] - 0s 2ms/step - loss: 0.2415 - accuracy: 0.9004\n",
      "Epoch 438/500\n",
      "17/17 [==============================] - 0s 1ms/step - loss: 0.2415 - accuracy: 0.9004\n",
      "Epoch 439/500\n",
      "17/17 [==============================] - 0s 2ms/step - loss: 0.2408 - accuracy: 0.9004\n",
      "Epoch 440/500\n",
      "17/17 [==============================] - 0s 2ms/step - loss: 0.2409 - accuracy: 0.9004\n",
      "Epoch 441/500\n",
      "17/17 [==============================] - 0s 2ms/step - loss: 0.2405 - accuracy: 0.9004\n",
      "Epoch 442/500\n",
      "17/17 [==============================] - 0s 1ms/step - loss: 0.2417 - accuracy: 0.8967\n",
      "Epoch 443/500\n",
      "17/17 [==============================] - 0s 3ms/step - loss: 0.2402 - accuracy: 0.9004\n",
      "Epoch 444/500\n",
      "17/17 [==============================] - 0s 2ms/step - loss: 0.2402 - accuracy: 0.9004\n",
      "Epoch 445/500\n",
      "17/17 [==============================] - 0s 2ms/step - loss: 0.2397 - accuracy: 0.8985\n",
      "Epoch 446/500\n",
      "17/17 [==============================] - 0s 2ms/step - loss: 0.2395 - accuracy: 0.9004\n",
      "Epoch 447/500\n",
      "17/17 [==============================] - 0s 2ms/step - loss: 0.2391 - accuracy: 0.8985\n",
      "Epoch 448/500\n",
      "17/17 [==============================] - 0s 2ms/step - loss: 0.2393 - accuracy: 0.8985\n",
      "Epoch 449/500\n",
      "17/17 [==============================] - 0s 2ms/step - loss: 0.2389 - accuracy: 0.9004\n",
      "Epoch 450/500\n",
      "17/17 [==============================] - 0s 2ms/step - loss: 0.2388 - accuracy: 0.8985\n",
      "Epoch 451/500\n",
      "17/17 [==============================] - 0s 2ms/step - loss: 0.2382 - accuracy: 0.8985\n",
      "Epoch 452/500\n",
      "17/17 [==============================] - 0s 2ms/step - loss: 0.2389 - accuracy: 0.9004\n",
      "Epoch 453/500\n",
      "17/17 [==============================] - 0s 2ms/step - loss: 0.2376 - accuracy: 0.8985\n",
      "Epoch 454/500\n",
      "17/17 [==============================] - 0s 2ms/step - loss: 0.2390 - accuracy: 0.8967\n",
      "Epoch 455/500\n",
      "17/17 [==============================] - 0s 2ms/step - loss: 0.2376 - accuracy: 0.8967\n",
      "Epoch 456/500\n",
      "17/17 [==============================] - 0s 2ms/step - loss: 0.2368 - accuracy: 0.8985\n",
      "Epoch 457/500\n",
      "17/17 [==============================] - 0s 2ms/step - loss: 0.2369 - accuracy: 0.8985\n",
      "Epoch 458/500\n",
      "17/17 [==============================] - 0s 2ms/step - loss: 0.2367 - accuracy: 0.8985\n",
      "Epoch 459/500\n",
      "17/17 [==============================] - 0s 2ms/step - loss: 0.2364 - accuracy: 0.9004\n",
      "Epoch 460/500\n",
      "17/17 [==============================] - 0s 2ms/step - loss: 0.2361 - accuracy: 0.8985\n",
      "Epoch 461/500\n",
      "17/17 [==============================] - 0s 1ms/step - loss: 0.2364 - accuracy: 0.8985\n",
      "Epoch 462/500\n",
      "17/17 [==============================] - 0s 2ms/step - loss: 0.2357 - accuracy: 0.8967\n",
      "Epoch 463/500\n",
      "17/17 [==============================] - 0s 2ms/step - loss: 0.2363 - accuracy: 0.8967\n",
      "Epoch 464/500\n",
      "17/17 [==============================] - 0s 1ms/step - loss: 0.2361 - accuracy: 0.8985\n",
      "Epoch 465/500\n",
      "17/17 [==============================] - 0s 2ms/step - loss: 0.2350 - accuracy: 0.9004\n",
      "Epoch 466/500\n",
      "17/17 [==============================] - 0s 1ms/step - loss: 0.2350 - accuracy: 0.8985\n",
      "Epoch 467/500\n",
      "17/17 [==============================] - 0s 976us/step - loss: 0.2357 - accuracy: 0.8985\n",
      "Epoch 468/500\n",
      "17/17 [==============================] - 0s 2ms/step - loss: 0.2343 - accuracy: 0.8985\n",
      "Epoch 469/500\n",
      "17/17 [==============================] - 0s 2ms/step - loss: 0.2342 - accuracy: 0.8967\n",
      "Epoch 470/500\n",
      "17/17 [==============================] - 0s 2ms/step - loss: 0.2341 - accuracy: 0.8985\n",
      "Epoch 471/500\n",
      "17/17 [==============================] - 0s 2ms/step - loss: 0.2340 - accuracy: 0.9004\n",
      "Epoch 472/500\n",
      "17/17 [==============================] - 0s 2ms/step - loss: 0.2340 - accuracy: 0.8985\n",
      "Epoch 473/500\n",
      "17/17 [==============================] - 0s 2ms/step - loss: 0.2349 - accuracy: 0.8985\n",
      "Epoch 474/500\n",
      "17/17 [==============================] - 0s 3ms/step - loss: 0.2336 - accuracy: 0.8985\n",
      "Epoch 475/500\n",
      "17/17 [==============================] - 0s 1ms/step - loss: 0.2334 - accuracy: 0.9004\n",
      "Epoch 476/500\n",
      "17/17 [==============================] - 0s 2ms/step - loss: 0.2337 - accuracy: 0.8985\n",
      "Epoch 477/500\n",
      "17/17 [==============================] - 0s 2ms/step - loss: 0.2330 - accuracy: 0.9004\n",
      "Epoch 478/500\n",
      "17/17 [==============================] - 0s 2ms/step - loss: 0.2325 - accuracy: 0.9022\n",
      "Epoch 479/500\n",
      "17/17 [==============================] - 0s 2ms/step - loss: 0.2326 - accuracy: 0.8985\n",
      "Epoch 480/500\n",
      "17/17 [==============================] - 0s 2ms/step - loss: 0.2322 - accuracy: 0.9004\n",
      "Epoch 481/500\n",
      "17/17 [==============================] - 0s 2ms/step - loss: 0.2322 - accuracy: 0.9022\n",
      "Epoch 482/500\n",
      "17/17 [==============================] - 0s 2ms/step - loss: 0.2324 - accuracy: 0.9022\n",
      "Epoch 483/500\n",
      "17/17 [==============================] - 0s 2ms/step - loss: 0.2314 - accuracy: 0.9004\n",
      "Epoch 484/500\n",
      "17/17 [==============================] - 0s 2ms/step - loss: 0.2317 - accuracy: 0.9004\n",
      "Epoch 485/500\n",
      "17/17 [==============================] - 0s 978us/step - loss: 0.2313 - accuracy: 0.9004\n",
      "Epoch 486/500\n",
      "17/17 [==============================] - 0s 2ms/step - loss: 0.2312 - accuracy: 0.9004\n",
      "Epoch 487/500\n"
     ]
    },
    {
     "name": "stdout",
     "output_type": "stream",
     "text": [
      "17/17 [==============================] - 0s 2ms/step - loss: 0.2314 - accuracy: 0.9004\n",
      "Epoch 488/500\n",
      "17/17 [==============================] - 0s 2ms/step - loss: 0.2306 - accuracy: 0.9004\n",
      "Epoch 489/500\n",
      "17/17 [==============================] - 0s 978us/step - loss: 0.2310 - accuracy: 0.9022\n",
      "Epoch 490/500\n",
      "17/17 [==============================] - 0s 2ms/step - loss: 0.2306 - accuracy: 0.9004\n",
      "Epoch 491/500\n",
      "17/17 [==============================] - 0s 2ms/step - loss: 0.2303 - accuracy: 0.9004\n",
      "Epoch 492/500\n",
      "17/17 [==============================] - 0s 2ms/step - loss: 0.2299 - accuracy: 0.9004\n",
      "Epoch 493/500\n",
      "17/17 [==============================] - 0s 3ms/step - loss: 0.2301 - accuracy: 0.9004\n",
      "Epoch 494/500\n",
      "17/17 [==============================] - 0s 2ms/step - loss: 0.2295 - accuracy: 0.9004\n",
      "Epoch 495/500\n",
      "17/17 [==============================] - 0s 2ms/step - loss: 0.2295 - accuracy: 0.9004\n",
      "Epoch 496/500\n",
      "17/17 [==============================] - 0s 2ms/step - loss: 0.2296 - accuracy: 0.9022\n",
      "Epoch 497/500\n",
      "17/17 [==============================] - 0s 2ms/step - loss: 0.2297 - accuracy: 0.9004\n",
      "Epoch 498/500\n",
      "17/17 [==============================] - 0s 2ms/step - loss: 0.2288 - accuracy: 0.9004\n",
      "Epoch 499/500\n",
      "17/17 [==============================] - 0s 2ms/step - loss: 0.2284 - accuracy: 0.9004\n",
      "Epoch 500/500\n",
      "17/17 [==============================] - 0s 2ms/step - loss: 0.2287 - accuracy: 0.9004\n"
     ]
    }
   ],
   "source": [
    "hist=ann.fit(X_train_dl, y_train_dl, batch_size = 32, epochs = 500)"
   ]
  },
  {
   "cell_type": "code",
   "execution_count": 59,
   "metadata": {
    "colab": {
     "base_uri": "https://localhost:8080/",
     "height": 295
    },
    "id": "nmknKBOp6PWC",
    "outputId": "21629f62-f643-420d-a264-1b86c29ab8c2"
   },
   "outputs": [
    {
     "data": {
      "image/png": "[encoded data removed]",
      "text/plain": [
       "<Figure size 432x288 with 1 Axes>"
      ]
     },
     "metadata": {
      "needs_background": "light"
     },
     "output_type": "display_data"
    }
   ],
   "source": [
    "plt.plot(hist.history['accuracy'])\n",
    "plt.title('Model accuracy')\n",
    "plt.ylabel('Accuracy')\n",
    "plt.xlabel('Epoch')\n",
    "plt.show()"
   ]
  },
  {
   "cell_type": "code",
   "execution_count": 60,
   "metadata": {
    "colab": {
     "base_uri": "https://localhost:8080/",
     "height": 295
    },
    "id": "0u_xcZWl7-Sw",
    "outputId": "ed3a3f9f-e660-472f-d745-1359c27e6a5c"
   },
   "outputs": [
    {
     "data": {
      "image/png": "[encoded data removed]",
      "text/plain": [
       "<Figure size 432x288 with 1 Axes>"
      ]
     },
     "metadata": {
      "needs_background": "light"
     },
     "output_type": "display_data"
    }
   ],
   "source": [
    "plt.plot(hist.history['loss'])\n",
    "plt.title('Model loss')\n",
    "plt.ylabel('Loss')\n",
    "plt.xlabel('Epoch')\n",
    "plt.show()"
   ]
  },
  {
   "cell_type": "code",
   "execution_count": 61,
   "metadata": {
    "colab": {
     "base_uri": "https://localhost:8080/",
     "height": 295
    },
    "id": "NEK2EsjwV2iA",
    "outputId": "b723d0bb-94a1-4b2d-b3a3-fdba9006becf"
   },
   "outputs": [
    {
     "name": "stdout",
     "output_type": "stream",
     "text": [
      "2/2 [==============================] - 0s 16ms/step\n"
     ]
    },
    {
     "data": {
      "image/png": "[encoded data removed]",
      "text/plain": [
       "<Figure size 432x288 with 2 Axes>"
      ]
     },
     "metadata": {
      "needs_background": "light"
     },
     "output_type": "display_data"
    }
   ],
   "source": [
    "Y_pred_ann  = ann.predict(X_test_dl)\n",
    "Y_pred_ann=Y_pred_ann.round().astype(int)\n",
    "cm = confusion_matrix(y_test_dl, Y_pred_ann)\n",
    "ax= plt.subplot()\n",
    "sns.heatmap(cm, annot=True, ax = ax,cmap=\"Greens\")\n",
    "ax.set_xlabel('Predicted labels');ax.set_ylabel('True labels')\n",
    "ax.set_title('Confusion Matrix')\n",
    "ax.xaxis.set_ticklabels(['Non-cancer','Pancreatic cancer']); ax.yaxis.set_ticklabels(['Non-cancer','Pancreatic cancer'])\n",
    "plt.show()"
   ]
  },
  {
   "cell_type": "markdown",
   "metadata": {},
   "source": [
    "And we perform a KFold for the Deep Learning approach."
   ]
  },
  {
   "cell_type": "code",
   "execution_count": 62,
   "metadata": {
    "colab": {
     "base_uri": "https://localhost:8080/"
    },
    "id": "HvvjEMnOvnW0",
    "outputId": "ab90a5f4-4a3e-4680-fddb-b6b1325bd876"
   },
   "outputs": [
    {
     "name": "stdout",
     "output_type": "stream",
     "text": [
      "79.66  %\n",
      "83.05  %\n",
      "81.36  %\n",
      "79.66  %\n",
      "83.05  %\n",
      "Mean score is:  81.36  %\n"
     ]
    }
   ],
   "source": [
    "from sklearn.model_selection import StratifiedKFold\n",
    "\n",
    "x3_dl=np.array(x3_dl)\n",
    "y3_dl=np.array(y3_dl)\n",
    "kfold = StratifiedKFold(n_splits=5, shuffle=True, random_state=1)\n",
    "cvscores = []\n",
    "for train, test in kfold.split(x3_dl, y3_dl):\n",
    "  # create model\n",
    "  ann = tf.keras.models.Sequential()\n",
    "  ann.add(tf.keras.layers.Dense(units=8, input_dim=8, kernel_initializer='uniform', activation='relu'))\n",
    "  ann.add(tf.keras.layers.Dense(units=8, kernel_initializer='uniform', activation='relu'))\n",
    "  ann.add(tf.keras.layers.Dense(units=1, kernel_initializer='uniform', activation='sigmoid')) # Output layer\n",
    "# Compile model\n",
    "  ann.compile(optimizer='adam', loss='binary_crossentropy', metrics=['accuracy'])\n",
    "# Fit the model\n",
    "  ann.fit(x3_dl[train], y3_dl[train], epochs=500, batch_size=32, verbose=0)\n",
    "# evaluate the model\n",
    "  scores = ann.evaluate(x3_dl[test], y3_dl[test], verbose=0)\n",
    "  print( round(scores[1]*100,2),\" %\")\n",
    "  cvscores.append(scores[1] * 100)\n",
    "print(\"Mean score is: \",round(np.mean(cvscores),2), \" %\")"
   ]
  },
  {
   "cell_type": "markdown",
   "metadata": {},
   "source": [
    "#### Conclusions:"
   ]
  },
  {
   "cell_type": "markdown",
   "metadata": {},
   "source": [
    "With Deep Learning, due to the lack of data we are not able to improve the 84.4 % accuracy using the SVC algorithm. Therefore, for this case, **SVC** is the selected algorithm to distinguish between patients with and without pancreatic cancer."
   ]
  }
 ],
 "metadata": {
  "colab": {
   "collapsed_sections": [],
   "name": "AI_Project_Ruben_Rosa.ipynb",
   "provenance": []
  },
  "kernelspec": {
   "display_name": "Python 3 (ipykernel)",
   "language": "python",
   "name": "python3"
  },
  "language_info": {
   "codemirror_mode": {
    "name": "ipython",
    "version": 3
   },
   "file_extension": ".py",
   "mimetype": "text/x-python",
   "name": "python",
   "nbconvert_exporter": "python",
   "pygments_lexer": "ipython3",
   "version": "3.9.12"
  }
 },
 "nbformat": 4,
 "nbformat_minor": 1
}
